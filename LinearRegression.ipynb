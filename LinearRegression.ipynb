{
 "cells": [
  {
   "cell_type": "code",
   "execution_count": 1,
   "metadata": {
    "colab": {},
    "colab_type": "code",
    "id": "ym7TbSXi7Sfo"
   },
   "outputs": [],
   "source": [
    "import numpy as np\n",
    "import pandas as pd\n",
    "import matplotlib.pyplot as plt"
   ]
  },
  {
   "cell_type": "markdown",
   "metadata": {},
   "source": [
    "## Data Load"
   ]
  },
  {
   "cell_type": "code",
   "execution_count": 2,
   "metadata": {
    "colab": {
     "base_uri": "https://localhost:8080/",
     "height": 402
    },
    "colab_type": "code",
    "id": "0dNYF3lY7gKA",
    "outputId": "2d7e6819-2536-488a-972d-8ffd08b2713a"
   },
   "outputs": [
    {
     "data": {
      "text/html": [
       "<div>\n",
       "<style scoped>\n",
       "    .dataframe tbody tr th:only-of-type {\n",
       "        vertical-align: middle;\n",
       "    }\n",
       "\n",
       "    .dataframe tbody tr th {\n",
       "        vertical-align: top;\n",
       "    }\n",
       "\n",
       "    .dataframe thead th {\n",
       "        text-align: right;\n",
       "    }\n",
       "</style>\n",
       "<table border=\"1\" class=\"dataframe\">\n",
       "  <thead>\n",
       "    <tr style=\"text-align: right;\">\n",
       "      <th></th>\n",
       "      <th>कृषि उपज</th>\n",
       "      <th>ईकाइ</th>\n",
       "      <th>न्यूनतम</th>\n",
       "      <th>अधिकतम</th>\n",
       "      <th>औसत</th>\n",
       "      <th>cdate</th>\n",
       "      <th>pricetype</th>\n",
       "    </tr>\n",
       "  </thead>\n",
       "  <tbody>\n",
       "    <tr>\n",
       "      <td>0</td>\n",
       "      <td>गोलभेडा ठूलो(नेपाली)</td>\n",
       "      <td>के.जी.</td>\n",
       "      <td>३०</td>\n",
       "      <td>३५</td>\n",
       "      <td>३३</td>\n",
       "      <td>02/25/2018</td>\n",
       "      <td>W</td>\n",
       "    </tr>\n",
       "    <tr>\n",
       "      <td>1</td>\n",
       "      <td>गोलभेडा सानो</td>\n",
       "      <td>के.जी.</td>\n",
       "      <td>२५</td>\n",
       "      <td>३०</td>\n",
       "      <td>२८</td>\n",
       "      <td>02/25/2018</td>\n",
       "      <td>W</td>\n",
       "    </tr>\n",
       "    <tr>\n",
       "      <td>2</td>\n",
       "      <td>अालु रातो</td>\n",
       "      <td>के.जी.</td>\n",
       "      <td>२०</td>\n",
       "      <td>२३</td>\n",
       "      <td>२२</td>\n",
       "      <td>02/25/2018</td>\n",
       "      <td>W</td>\n",
       "    </tr>\n",
       "    <tr>\n",
       "      <td>3</td>\n",
       "      <td>अालु सेतो</td>\n",
       "      <td>के.जी.</td>\n",
       "      <td>१८</td>\n",
       "      <td>२०</td>\n",
       "      <td>१९</td>\n",
       "      <td>02/25/2018</td>\n",
       "      <td>W</td>\n",
       "    </tr>\n",
       "    <tr>\n",
       "      <td>4</td>\n",
       "      <td>प्याज सुकेको भारतीय</td>\n",
       "      <td>के.जी.</td>\n",
       "      <td>४४</td>\n",
       "      <td>४६</td>\n",
       "      <td>४५</td>\n",
       "      <td>02/25/2018</td>\n",
       "      <td>W</td>\n",
       "    </tr>\n",
       "    <tr>\n",
       "      <td>...</td>\n",
       "      <td>...</td>\n",
       "      <td>...</td>\n",
       "      <td>...</td>\n",
       "      <td>...</td>\n",
       "      <td>...</td>\n",
       "      <td>...</td>\n",
       "      <td>...</td>\n",
       "    </tr>\n",
       "    <tr>\n",
       "      <td>99297</td>\n",
       "      <td>लसुन सुकेको नेपाली</td>\n",
       "      <td>के.जी.</td>\n",
       "      <td>६००</td>\n",
       "      <td>६२०</td>\n",
       "      <td>६१०</td>\n",
       "      <td>02/15/2020</td>\n",
       "      <td>R</td>\n",
       "    </tr>\n",
       "    <tr>\n",
       "      <td>99298</td>\n",
       "      <td>ताजा माछा(रहु)</td>\n",
       "      <td>के जी</td>\n",
       "      <td>३२०</td>\n",
       "      <td>३३०</td>\n",
       "      <td>३२५</td>\n",
       "      <td>02/15/2020</td>\n",
       "      <td>R</td>\n",
       "    </tr>\n",
       "    <tr>\n",
       "      <td>99299</td>\n",
       "      <td>ताजा माछा(बचुवा)</td>\n",
       "      <td>के जी</td>\n",
       "      <td>२८०</td>\n",
       "      <td>३००</td>\n",
       "      <td>२९०</td>\n",
       "      <td>02/15/2020</td>\n",
       "      <td>R</td>\n",
       "    </tr>\n",
       "    <tr>\n",
       "      <td>99300</td>\n",
       "      <td>ताजा माछा(छडी)</td>\n",
       "      <td>के जी</td>\n",
       "      <td>२८०</td>\n",
       "      <td>३००</td>\n",
       "      <td>२९०</td>\n",
       "      <td>02/15/2020</td>\n",
       "      <td>R</td>\n",
       "    </tr>\n",
       "    <tr>\n",
       "      <td>99301</td>\n",
       "      <td>ताजा माछा(म‌ंुगरी)</td>\n",
       "      <td>के जी</td>\n",
       "      <td>३१०</td>\n",
       "      <td>३२०</td>\n",
       "      <td>३१५</td>\n",
       "      <td>02/15/2020</td>\n",
       "      <td>R</td>\n",
       "    </tr>\n",
       "  </tbody>\n",
       "</table>\n",
       "<p>99302 rows × 7 columns</p>\n",
       "</div>"
      ],
      "text/plain": [
       "                   कृषि उपज    ईकाइ न्यूनतम अधिकतम  औसत       cdate pricetype\n",
       "0      गोलभेडा ठूलो(नेपाली)  के.जी.      ३०     ३५   ३३  02/25/2018         W\n",
       "1              गोलभेडा सानो  के.जी.      २५     ३०   २८  02/25/2018         W\n",
       "2                 अालु रातो  के.जी.      २०     २३   २२  02/25/2018         W\n",
       "3                 अालु सेतो  के.जी.      १८     २०   १९  02/25/2018         W\n",
       "4       प्याज सुकेको भारतीय  के.जी.      ४४     ४६   ४५  02/25/2018         W\n",
       "...                     ...     ...     ...    ...  ...         ...       ...\n",
       "99297    लसुन सुकेको नेपाली  के.जी.     ६००    ६२०  ६१०  02/15/2020         R\n",
       "99298        ताजा माछा(रहु)   के जी     ३२०    ३३०  ३२५  02/15/2020         R\n",
       "99299      ताजा माछा(बचुवा)   के जी     २८०    ३००  २९०  02/15/2020         R\n",
       "99300        ताजा माछा(छडी)   के जी     २८०    ३००  २९०  02/15/2020         R\n",
       "99301    ताजा माछा(म‌ंुगरी)   के जी     ३१०    ३२०  ३१५  02/15/2020         R\n",
       "\n",
       "[99302 rows x 7 columns]"
      ]
     },
     "execution_count": 2,
     "metadata": {},
     "output_type": "execute_result"
    }
   ],
   "source": [
    "data=pd.read_csv(\"Price.csv\")\n",
    "data"
   ]
  },
  {
   "cell_type": "markdown",
   "metadata": {},
   "source": [
    "## Data preprocessing"
   ]
  },
  {
   "cell_type": "code",
   "execution_count": 3,
   "metadata": {
    "colab": {},
    "colab_type": "code",
    "id": "QwTMNGMh7sJI"
   },
   "outputs": [],
   "source": [
    "\n",
    "data.rename(columns={'कृषि उपज':'Vegetable','ईकाइ':'Quantity',\n",
    "                     'न्यूनतम':'MinPrice','अधिकतम':'MaxPrice','औसत':'Average'},inplace=True)"
   ]
  },
  {
   "cell_type": "code",
   "execution_count": 4,
   "metadata": {
    "colab": {
     "base_uri": "https://localhost:8080/",
     "height": 195
    },
    "colab_type": "code",
    "id": "IfPN4fjc7yxr",
    "outputId": "078589ec-be20-4466-afcd-350cef2515ce"
   },
   "outputs": [
    {
     "data": {
      "text/html": [
       "<div>\n",
       "<style scoped>\n",
       "    .dataframe tbody tr th:only-of-type {\n",
       "        vertical-align: middle;\n",
       "    }\n",
       "\n",
       "    .dataframe tbody tr th {\n",
       "        vertical-align: top;\n",
       "    }\n",
       "\n",
       "    .dataframe thead th {\n",
       "        text-align: right;\n",
       "    }\n",
       "</style>\n",
       "<table border=\"1\" class=\"dataframe\">\n",
       "  <thead>\n",
       "    <tr style=\"text-align: right;\">\n",
       "      <th></th>\n",
       "      <th>Vegetable</th>\n",
       "      <th>Quantity</th>\n",
       "      <th>MinPrice</th>\n",
       "      <th>MaxPrice</th>\n",
       "      <th>Average</th>\n",
       "      <th>cdate</th>\n",
       "      <th>pricetype</th>\n",
       "    </tr>\n",
       "  </thead>\n",
       "  <tbody>\n",
       "    <tr>\n",
       "      <td>0</td>\n",
       "      <td>गोलभेडा ठूलो(नेपाली)</td>\n",
       "      <td>के.जी.</td>\n",
       "      <td>३०</td>\n",
       "      <td>३५</td>\n",
       "      <td>३३</td>\n",
       "      <td>2018-02-25</td>\n",
       "      <td>W</td>\n",
       "    </tr>\n",
       "    <tr>\n",
       "      <td>1</td>\n",
       "      <td>गोलभेडा सानो</td>\n",
       "      <td>के.जी.</td>\n",
       "      <td>२५</td>\n",
       "      <td>३०</td>\n",
       "      <td>२८</td>\n",
       "      <td>2018-02-25</td>\n",
       "      <td>W</td>\n",
       "    </tr>\n",
       "    <tr>\n",
       "      <td>2</td>\n",
       "      <td>अालु रातो</td>\n",
       "      <td>के.जी.</td>\n",
       "      <td>२०</td>\n",
       "      <td>२३</td>\n",
       "      <td>२२</td>\n",
       "      <td>2018-02-25</td>\n",
       "      <td>W</td>\n",
       "    </tr>\n",
       "    <tr>\n",
       "      <td>3</td>\n",
       "      <td>अालु सेतो</td>\n",
       "      <td>के.जी.</td>\n",
       "      <td>१८</td>\n",
       "      <td>२०</td>\n",
       "      <td>१९</td>\n",
       "      <td>2018-02-25</td>\n",
       "      <td>W</td>\n",
       "    </tr>\n",
       "    <tr>\n",
       "      <td>4</td>\n",
       "      <td>प्याज सुकेको भारतीय</td>\n",
       "      <td>के.जी.</td>\n",
       "      <td>४४</td>\n",
       "      <td>४६</td>\n",
       "      <td>४५</td>\n",
       "      <td>2018-02-25</td>\n",
       "      <td>W</td>\n",
       "    </tr>\n",
       "  </tbody>\n",
       "</table>\n",
       "</div>"
      ],
      "text/plain": [
       "              Vegetable Quantity MinPrice MaxPrice Average      cdate  \\\n",
       "0  गोलभेडा ठूलो(नेपाली)   के.जी.       ३०       ३५      ३३ 2018-02-25   \n",
       "1          गोलभेडा सानो   के.जी.       २५       ३०      २८ 2018-02-25   \n",
       "2             अालु रातो   के.जी.       २०       २३      २२ 2018-02-25   \n",
       "3             अालु सेतो   के.जी.       १८       २०      १९ 2018-02-25   \n",
       "4   प्याज सुकेको भारतीय   के.जी.       ४४       ४६      ४५ 2018-02-25   \n",
       "\n",
       "  pricetype  \n",
       "0         W  \n",
       "1         W  \n",
       "2         W  \n",
       "3         W  \n",
       "4         W  "
      ]
     },
     "execution_count": 4,
     "metadata": {},
     "output_type": "execute_result"
    }
   ],
   "source": [
    "# convert cdate into pandas date\n",
    "data['cdate']=pd.to_datetime(data['cdate'])\n",
    "data.head()\n"
   ]
  },
  {
   "cell_type": "code",
   "execution_count": 5,
   "metadata": {
    "colab": {},
    "colab_type": "code",
    "id": "Qt_nGRPr8GYD"
   },
   "outputs": [],
   "source": [
    "#convert Devanagari number into english digits\n",
    "\n",
    "def convert(val):\n",
    "    result=[]\n",
    "    for v in val:\n",
    "        result.append(int(v))\n",
    "    return result \n",
    "\n",
    "data['MinPrice']=convert(data['MinPrice'].tolist())\n",
    "data['MaxPrice']=convert(data['MaxPrice'].tolist())\n",
    "data['Average']=convert(data['Average'].tolist())"
   ]
  },
  {
   "cell_type": "code",
   "execution_count": 6,
   "metadata": {
    "colab": {
     "base_uri": "https://localhost:8080/",
     "height": 195
    },
    "colab_type": "code",
    "id": "uyhoGu-28JGZ",
    "outputId": "608a0513-1f4a-4e01-bf85-6aeb1fe7bf49"
   },
   "outputs": [
    {
     "data": {
      "text/html": [
       "<div>\n",
       "<style scoped>\n",
       "    .dataframe tbody tr th:only-of-type {\n",
       "        vertical-align: middle;\n",
       "    }\n",
       "\n",
       "    .dataframe tbody tr th {\n",
       "        vertical-align: top;\n",
       "    }\n",
       "\n",
       "    .dataframe thead th {\n",
       "        text-align: right;\n",
       "    }\n",
       "</style>\n",
       "<table border=\"1\" class=\"dataframe\">\n",
       "  <thead>\n",
       "    <tr style=\"text-align: right;\">\n",
       "      <th></th>\n",
       "      <th>Vegetable</th>\n",
       "      <th>Quantity</th>\n",
       "      <th>MinPrice</th>\n",
       "      <th>MaxPrice</th>\n",
       "      <th>Average</th>\n",
       "      <th>cdate</th>\n",
       "      <th>pricetype</th>\n",
       "    </tr>\n",
       "  </thead>\n",
       "  <tbody>\n",
       "    <tr>\n",
       "      <td>0</td>\n",
       "      <td>गोलभेडा ठूलो(नेपाली)</td>\n",
       "      <td>के.जी.</td>\n",
       "      <td>30</td>\n",
       "      <td>35</td>\n",
       "      <td>33</td>\n",
       "      <td>2018-02-25</td>\n",
       "      <td>W</td>\n",
       "    </tr>\n",
       "    <tr>\n",
       "      <td>1</td>\n",
       "      <td>गोलभेडा सानो</td>\n",
       "      <td>के.जी.</td>\n",
       "      <td>25</td>\n",
       "      <td>30</td>\n",
       "      <td>28</td>\n",
       "      <td>2018-02-25</td>\n",
       "      <td>W</td>\n",
       "    </tr>\n",
       "    <tr>\n",
       "      <td>2</td>\n",
       "      <td>अालु रातो</td>\n",
       "      <td>के.जी.</td>\n",
       "      <td>20</td>\n",
       "      <td>23</td>\n",
       "      <td>22</td>\n",
       "      <td>2018-02-25</td>\n",
       "      <td>W</td>\n",
       "    </tr>\n",
       "    <tr>\n",
       "      <td>3</td>\n",
       "      <td>अालु सेतो</td>\n",
       "      <td>के.जी.</td>\n",
       "      <td>18</td>\n",
       "      <td>20</td>\n",
       "      <td>19</td>\n",
       "      <td>2018-02-25</td>\n",
       "      <td>W</td>\n",
       "    </tr>\n",
       "    <tr>\n",
       "      <td>4</td>\n",
       "      <td>प्याज सुकेको भारतीय</td>\n",
       "      <td>के.जी.</td>\n",
       "      <td>44</td>\n",
       "      <td>46</td>\n",
       "      <td>45</td>\n",
       "      <td>2018-02-25</td>\n",
       "      <td>W</td>\n",
       "    </tr>\n",
       "  </tbody>\n",
       "</table>\n",
       "</div>"
      ],
      "text/plain": [
       "              Vegetable Quantity  MinPrice  MaxPrice  Average      cdate  \\\n",
       "0  गोलभेडा ठूलो(नेपाली)   के.जी.        30        35       33 2018-02-25   \n",
       "1          गोलभेडा सानो   के.जी.        25        30       28 2018-02-25   \n",
       "2             अालु रातो   के.जी.        20        23       22 2018-02-25   \n",
       "3             अालु सेतो   के.जी.        18        20       19 2018-02-25   \n",
       "4   प्याज सुकेको भारतीय   के.जी.        44        46       45 2018-02-25   \n",
       "\n",
       "  pricetype  \n",
       "0         W  \n",
       "1         W  \n",
       "2         W  \n",
       "3         W  \n",
       "4         W  "
      ]
     },
     "execution_count": 6,
     "metadata": {},
     "output_type": "execute_result"
    }
   ],
   "source": [
    "data.head()"
   ]
  },
  {
   "cell_type": "code",
   "execution_count": 7,
   "metadata": {},
   "outputs": [
    {
     "data": {
      "text/plain": [
       "120"
      ]
     },
     "execution_count": 7,
     "metadata": {},
     "output_type": "execute_result"
    }
   ],
   "source": [
    "vegetable=set(data['Vegetable'].values)\n",
    "len(vegetable)"
   ]
  },
  {
   "cell_type": "markdown",
   "metadata": {},
   "source": [
    "# Data Analysis and Visualization"
   ]
  },
  {
   "cell_type": "markdown",
   "metadata": {},
   "source": [
    "### Find the name of vegetables"
   ]
  },
  {
   "cell_type": "code",
   "execution_count": 8,
   "metadata": {},
   "outputs": [
    {
     "name": "stdout",
     "output_type": "stream",
     "text": [
      "['गोलभेडा ठूलो(नेपाली)' 'गोलभेडा सानो' 'अालु रातो' 'अालु सेतो'\n",
      " 'प्याज सुकेको भारतीय' 'गाजर(लोकल)' 'बन्दा(लोकल)' 'काउली स्थानिय'\n",
      " 'काउली तरार्इ' 'मूला रातो' 'मूला सेतो(लोकल)' 'भन्टा लाम्चो' 'भन्टा डल्लो'\n",
      " 'मटरकोशा' 'घिउ सिमी(लोकल)' 'टाटे सिमी' 'लौका' 'फर्सी पाकेको'\n",
      " 'फर्सी हरियो(लाम्चो)' 'भिण्डी' 'बरेला' 'पिंडालू' 'स्कूस' 'रायो साग'\n",
      " 'पालूगो साग' 'चमसूरको साग' 'तोरीको साग' 'मेथीको साग' 'प्याज हरियो'\n",
      " 'बकूला' 'तरुल' 'च्याउ(कन्य)' 'ब्रोकाउली' 'चुकुन्दर' 'जिरीको साग'\n",
      " 'ग्याठ कोबी' 'सेलरी' 'पार्सले' 'सौफको साग' 'पुदीना' 'गान्टे मूला' 'इमली'\n",
      " 'तामा' 'तोफु' 'गुन्दुक' 'स्याउ(झोले)' 'केरा' 'कागती' 'अनार'\n",
      " 'अंगुर(हरियो)' 'सुन्तला(नेपाली)' 'तरबुजा(हरियो)' 'मौसम' 'भुर्इ कटहर'\n",
      " 'काक्रो(लोकल)' 'रुख कटहर' 'नासपाती(लोकल)' 'मेवा(नेपाली)' 'लप्सी' 'अदुवा'\n",
      " 'खु्र्सानी सुकेको' 'खु्र्सानी हरियो' 'भेडे खु्र्सानी' 'लसुन हरियो'\n",
      " 'हरियो धनिया' 'लसुन सुकेको चाइनिज' 'लसुन सुकेको नेपाली' 'माछा ताजा'\n",
      " 'रातो बन्दा' 'तितो करेला' 'परवर(लोकल)' 'छ्यापी हरियो' 'बोडी(तने)' 'सजिवन'\n",
      " 'कोइरालो' 'घिरौला' 'आँप(मालदह)' 'चिचिण्डो' 'न्यूरो' 'लीच्ची(लोकल)'\n",
      " 'भटमासकोशा' 'झिगूनी' 'अम्बा' 'कुरीलो' 'सखरखण्ड' 'छ्यापी सुकेको'\n",
      " 'गोलभेडा सानो(टनेल)' 'आलु रातो(भारतीय)' 'च्याउ(डल्ले)' 'स्याउ(फूजी)'\n",
      " 'काक्रो(हाइब्रीड)' 'खुर्सानी हरियो(बुलेट)' 'खुर्सानी हरियो(माछे)'\n",
      " 'खुर्सानी हरियो(अकबरे)' 'ताजा माछा(रहु)' 'ताजा माछा(बचुवा)'\n",
      " 'ताजा माछा(छडी)' 'ताजा माछा(म\\u200cंुगरी)' 'सेतो मूला(हाइब्रीड)'\n",
      " 'मकै बोडी' 'घिउ सिमी(हाइब्रीड)' 'घिउ सिमी(राजमा)' 'हरियो फर्सी(डल्लो)'\n",
      " 'अाँप(दसहरी)' 'तरबुजा(पाटे)' 'मेवा(भारतीय)' 'लीच्ची(भारतीय)'\n",
      " 'बन्दा(नरिवल)' 'आलु रातो(मुडे)' 'ठूलो गोलभेडा(भारतीय)' 'नासपाती(चाइनिज)'\n",
      " 'गोलभेडा सानो(भारतीय)' 'सुन्तला(भारतीय)' 'गाजर(तराई)'\n",
      " 'गोलभेडा सानो(तराई)' 'सुकेको प्याज चाइनिज' 'बन्दा(तराई)'\n",
      " 'स्थानीय काउली(ज्यापु)' 'परवर(तराई)' 'अंगुर(कालो)']\n"
     ]
    }
   ],
   "source": [
    "vegetable_name=data['Vegetable'].unique()\n",
    "print( vegetable_name)"
   ]
  },
  {
   "cell_type": "markdown",
   "metadata": {},
   "source": [
    "###  Find the total number of vegetables"
   ]
  },
  {
   "cell_type": "code",
   "execution_count": 9,
   "metadata": {},
   "outputs": [
    {
     "name": "stdout",
     "output_type": "stream",
     "text": [
      "There are 120 unique vegetables.\n"
     ]
    }
   ],
   "source": [
    "vegetable_length=len(vegetable_name)\n",
    "print(\"There are {} unique vegetables.\".format(vegetable_length))"
   ]
  },
  {
   "cell_type": "markdown",
   "metadata": {},
   "source": [
    "### Histogram of Number of vegetables their average price"
   ]
  },
  {
   "cell_type": "code",
   "execution_count": 10,
   "metadata": {},
   "outputs": [
    {
     "data": {
      "image/png": "[encoded data removed]",
      "text/plain": [
       "<Figure size 432x288 with 1 Axes>"
      ]
     },
     "metadata": {
      "needs_background": "light"
     },
     "output_type": "display_data"
    }
   ],
   "source": [
    "data['Average'].plot.hist()\n",
    "plt.xlabel('Average price of vegetable')\n",
    "plt.ylabel('Number of Vegetable')\n",
    "plt.title('Histogram of Number of vegetables their average price')\n",
    "plt.show()"
   ]
  },
  {
   "cell_type": "markdown",
   "metadata": {},
   "source": [
    " The above histogram showed that maximum vegetable has an average price between 1 to 150"
   ]
  },
  {
   "cell_type": "markdown",
   "metadata": {},
   "source": [
    "### Find the minimum price  of vegetable"
   ]
  },
  {
   "cell_type": "code",
   "execution_count": 11,
   "metadata": {},
   "outputs": [
    {
     "name": "stdout",
     "output_type": "stream",
     "text": [
      "Minimun price of vegetables is Rs. 1\n"
     ]
    }
   ],
   "source": [
    "min_price=data.MinPrice.min()\n",
    "print( \"Minimun price of vegetables is Rs.\",min_price)"
   ]
  },
  {
   "cell_type": "markdown",
   "metadata": {},
   "source": [
    "### count the number of vegetables whose price is Rs.1"
   ]
  },
  {
   "cell_type": "code",
   "execution_count": 12,
   "metadata": {},
   "outputs": [
    {
     "name": "stdout",
     "output_type": "stream",
     "text": [
      "There are 3 vegetables whose price is Rs.1\n"
     ]
    }
   ],
   "source": [
    "min_price_vegetable=data[data.MinPrice==1]\n",
    "length_min_price=len(min_price_vegetable)\n",
    "print(\"There are {} vegetables whose price is Rs.{}\".format(length_min_price,min_price))"
   ]
  },
  {
   "cell_type": "markdown",
   "metadata": {},
   "source": [
    "### Find the details about minimum price vegetables"
   ]
  },
  {
   "cell_type": "code",
   "execution_count": 13,
   "metadata": {},
   "outputs": [
    {
     "data": {
      "text/html": [
       "<div>\n",
       "<style scoped>\n",
       "    .dataframe tbody tr th:only-of-type {\n",
       "        vertical-align: middle;\n",
       "    }\n",
       "\n",
       "    .dataframe tbody tr th {\n",
       "        vertical-align: top;\n",
       "    }\n",
       "\n",
       "    .dataframe thead th {\n",
       "        text-align: right;\n",
       "    }\n",
       "</style>\n",
       "<table border=\"1\" class=\"dataframe\">\n",
       "  <thead>\n",
       "    <tr style=\"text-align: right;\">\n",
       "      <th></th>\n",
       "      <th>Vegetable</th>\n",
       "      <th>Quantity</th>\n",
       "      <th>MinPrice</th>\n",
       "      <th>MaxPrice</th>\n",
       "      <th>Average</th>\n",
       "      <th>cdate</th>\n",
       "      <th>pricetype</th>\n",
       "    </tr>\n",
       "  </thead>\n",
       "  <tbody>\n",
       "    <tr>\n",
       "      <td>25011</td>\n",
       "      <td>झिगूनी</td>\n",
       "      <td>के.जी.</td>\n",
       "      <td>1</td>\n",
       "      <td>48</td>\n",
       "      <td>31</td>\n",
       "      <td>2018-09-09</td>\n",
       "      <td>W</td>\n",
       "    </tr>\n",
       "    <tr>\n",
       "      <td>36257</td>\n",
       "      <td>काउली स्थानिय</td>\n",
       "      <td>के.जी.</td>\n",
       "      <td>1</td>\n",
       "      <td>40</td>\n",
       "      <td>21</td>\n",
       "      <td>2018-12-09</td>\n",
       "      <td>R</td>\n",
       "    </tr>\n",
       "    <tr>\n",
       "      <td>37157</td>\n",
       "      <td>तरबुजा(हरियो)</td>\n",
       "      <td>के.जी.</td>\n",
       "      <td>1</td>\n",
       "      <td>55</td>\n",
       "      <td>28</td>\n",
       "      <td>2018-12-16</td>\n",
       "      <td>W</td>\n",
       "    </tr>\n",
       "  </tbody>\n",
       "</table>\n",
       "</div>"
      ],
      "text/plain": [
       "           Vegetable Quantity  MinPrice  MaxPrice  Average      cdate  \\\n",
       "25011         झिगूनी   के.जी.         1        48       31 2018-09-09   \n",
       "36257  काउली स्थानिय   के.जी.         1        40       21 2018-12-09   \n",
       "37157  तरबुजा(हरियो)   के.जी.         1        55       28 2018-12-16   \n",
       "\n",
       "      pricetype  \n",
       "25011         W  \n",
       "36257         R  \n",
       "37157         W  "
      ]
     },
     "execution_count": 13,
     "metadata": {},
     "output_type": "execute_result"
    }
   ],
   "source": [
    "\n",
    "detail_min=data[data.MinPrice==1]\n",
    "detail_min"
   ]
  },
  {
   "cell_type": "markdown",
   "metadata": {},
   "source": [
    " It showed that झिगूनी,काउली स्थानिय and तरबुजा(हरियो)\n",
    "  have a minimum price(Rs.1) than other vegetables at different dates."
   ]
  },
  {
   "cell_type": "markdown",
   "metadata": {},
   "source": [
    "### Find the maximum price  of vegetable"
   ]
  },
  {
   "cell_type": "code",
   "execution_count": 14,
   "metadata": {},
   "outputs": [
    {
     "name": "stdout",
     "output_type": "stream",
     "text": [
      "Maximum price of vegetables is Rs. 1650\n"
     ]
    }
   ],
   "source": [
    "max_price=data.MaxPrice.max()\n",
    "\n",
    "print( \"Maximum price of vegetables is Rs.\",max_price)"
   ]
  },
  {
   "cell_type": "markdown",
   "metadata": {},
   "source": [
    "### count the number of vegetables whose price is Rs.1650"
   ]
  },
  {
   "cell_type": "code",
   "execution_count": 15,
   "metadata": {},
   "outputs": [
    {
     "name": "stdout",
     "output_type": "stream",
     "text": [
      "There are 6 vegetables whose price is Rs.1650\n"
     ]
    }
   ],
   "source": [
    "max_price_vegetable=data[data.MaxPrice==1650]\n",
    "len_max_price_vegetable=len(max_price_vegetable)\n",
    "print(\"There are {} vegetables whose price is Rs.{}\".format(len_max_price_vegetable,max_price))"
   ]
  },
  {
   "cell_type": "markdown",
   "metadata": {},
   "source": [
    "### Find the details about maximum price vegetables"
   ]
  },
  {
   "cell_type": "code",
   "execution_count": 16,
   "metadata": {},
   "outputs": [
    {
     "name": "stdout",
     "output_type": "stream",
     "text": [
      "     Vegetable Quantity  MinPrice  MaxPrice  Average      cdate pricetype\n",
      "5431     कागती   के.जी.      1600      1650     1625 2018-04-06         R\n",
      "5843     कागती   के.जी.      1600      1650     1625 2018-04-09         R\n",
      "5981     कागती   के.जी.      1600      1650     1625 2018-04-10         R\n",
      "6117     कागती   के.जी.      1600      1650     1625 2018-04-11         R\n",
      "6251     कागती   के.जी.      1600      1650     1625 2018-04-12         R\n",
      "6385     कागती   के.जी.      1600      1650     1625 2018-04-13         R\n"
     ]
    }
   ],
   "source": [
    "detail_max=data[data.MaxPrice==1650]\n",
    "print(detail_max)"
   ]
  },
  {
   "cell_type": "markdown",
   "metadata": {},
   "source": [
    "It showed that कागती has a maximum(Rs.1650) price among other vegetables and कागती price maximum in April."
   ]
  },
  {
   "cell_type": "markdown",
   "metadata": {},
   "source": [
    "### Histogram of Pricetype"
   ]
  },
  {
   "cell_type": "code",
   "execution_count": 22,
   "metadata": {},
   "outputs": [],
   "source": [
    "from collections import Counter"
   ]
  },
  {
   "cell_type": "code",
   "execution_count": 27,
   "metadata": {},
   "outputs": [
    {
     "name": "stdout",
     "output_type": "stream",
     "text": [
      "Counter({'W': 49656, 'R': 49646})\n"
     ]
    }
   ],
   "source": [
    "\n",
    "pricetype_count=Counter(data['pricetype']) \n",
    "print(pricetype_count)"
   ]
  },
  {
   "cell_type": "code",
   "execution_count": 29,
   "metadata": {},
   "outputs": [
    {
     "data": {
      "text/plain": [
       "Text(0.5, 1.0, 'Number of vegetables and their pricetype')"
      ]
     },
     "execution_count": 29,
     "metadata": {},
     "output_type": "execute_result"
    },
    {
     "data": {
      "image/png": "[encoded data removed]",
      "text/plain": [
       "<Figure size 432x288 with 1 Axes>"
      ]
     },
     "metadata": {
      "needs_background": "light"
     },
     "output_type": "display_data"
    }
   ],
   "source": [
    "plt.bar(range(len(pricetype_count)),list(pricetype_count.values()),tick_label=list(pricetype_count.keys()))\n",
    "plt.xlabel(\"pricetype in wholesale(W)and Retail(R) \")\n",
    "plt.ylabel(\"Number of vegetables\")\n",
    "plt.title(\"Number of vegetables and their pricetype\")"
   ]
  },
  {
   "cell_type": "markdown",
   "metadata": {},
   "source": [
    "From the above found that a number of wholesale and retail is not the same.\n",
    "The difference between wholesale and retail price type is 10"
   ]
  },
  {
   "cell_type": "markdown",
   "metadata": {
    "colab_type": "text",
    "id": "6XgxleQO0_8S"
   },
   "source": [
    "## Feature Extraction\n",
    "Adding two features: \n",
    "price of yesterday and the day before yesterday"
   ]
  },
  {
   "cell_type": "code",
   "execution_count": 35,
   "metadata": {
    "colab": {},
    "colab_type": "code",
    "id": "yUOR2CF88hWm"
   },
   "outputs": [],
   "source": [
    " feature_df=[]\n",
    " for v in vegetable:\n",
    "    for p_type in ['W','R']:\n",
    "            # gettig last two days as features\n",
    "            df_v=data[(data['Vegetable']==v) &(data['pricetype']==p_type)]# one one vegetable and that only one pricetype\n",
    "            df_v = df_v.sort_values(by=['cdate'] ,ascending=False)\n",
    "            \n",
    "            if p_type=='W':\n",
    "                df_v['type']=1\n",
    "            else:\n",
    "                df_v['type']=0\n",
    "            \n",
    "            df_v['t_1']=df_v.shift(-1)['Average']\n",
    "            df_v['t_2']=df_v.shift(-2)['Average']\n",
    "            feature_df.append(df_v)\n",
    "# feature_df   \n",
    " \n",
    "\n",
    " "
   ]
  },
  {
   "cell_type": "code",
   "execution_count": 36,
   "metadata": {
    "colab": {
     "base_uri": "https://localhost:8080/",
     "height": 195
    },
    "colab_type": "code",
    "id": "iiLkGFYL8pmE",
    "outputId": "cf34c8cf-b911-42d2-e73e-bbdaab73e794"
   },
   "outputs": [
    {
     "data": {
      "text/html": [
       "<div>\n",
       "<style scoped>\n",
       "    .dataframe tbody tr th:only-of-type {\n",
       "        vertical-align: middle;\n",
       "    }\n",
       "\n",
       "    .dataframe tbody tr th {\n",
       "        vertical-align: top;\n",
       "    }\n",
       "\n",
       "    .dataframe thead th {\n",
       "        text-align: right;\n",
       "    }\n",
       "</style>\n",
       "<table border=\"1\" class=\"dataframe\">\n",
       "  <thead>\n",
       "    <tr style=\"text-align: right;\">\n",
       "      <th></th>\n",
       "      <th>Vegetable</th>\n",
       "      <th>Quantity</th>\n",
       "      <th>MinPrice</th>\n",
       "      <th>MaxPrice</th>\n",
       "      <th>Average</th>\n",
       "      <th>cdate</th>\n",
       "      <th>pricetype</th>\n",
       "      <th>type</th>\n",
       "      <th>t_1</th>\n",
       "      <th>t_2</th>\n",
       "    </tr>\n",
       "  </thead>\n",
       "  <tbody>\n",
       "    <tr>\n",
       "      <td>99190</td>\n",
       "      <td>कागती</td>\n",
       "      <td>के.जी.</td>\n",
       "      <td>120</td>\n",
       "      <td>130</td>\n",
       "      <td>125</td>\n",
       "      <td>2020-02-15</td>\n",
       "      <td>W</td>\n",
       "      <td>1</td>\n",
       "      <td>125.0</td>\n",
       "      <td>125.0</td>\n",
       "    </tr>\n",
       "    <tr>\n",
       "      <td>99022</td>\n",
       "      <td>कागती</td>\n",
       "      <td>के.जी.</td>\n",
       "      <td>120</td>\n",
       "      <td>130</td>\n",
       "      <td>125</td>\n",
       "      <td>2020-02-14</td>\n",
       "      <td>W</td>\n",
       "      <td>1</td>\n",
       "      <td>125.0</td>\n",
       "      <td>105.0</td>\n",
       "    </tr>\n",
       "    <tr>\n",
       "      <td>98859</td>\n",
       "      <td>कागती</td>\n",
       "      <td>के.जी.</td>\n",
       "      <td>120</td>\n",
       "      <td>130</td>\n",
       "      <td>125</td>\n",
       "      <td>2020-02-13</td>\n",
       "      <td>W</td>\n",
       "      <td>1</td>\n",
       "      <td>105.0</td>\n",
       "      <td>105.0</td>\n",
       "    </tr>\n",
       "    <tr>\n",
       "      <td>98698</td>\n",
       "      <td>कागती</td>\n",
       "      <td>के.जी.</td>\n",
       "      <td>100</td>\n",
       "      <td>110</td>\n",
       "      <td>105</td>\n",
       "      <td>2020-02-12</td>\n",
       "      <td>W</td>\n",
       "      <td>1</td>\n",
       "      <td>105.0</td>\n",
       "      <td>105.0</td>\n",
       "    </tr>\n",
       "    <tr>\n",
       "      <td>98537</td>\n",
       "      <td>कागती</td>\n",
       "      <td>के.जी.</td>\n",
       "      <td>100</td>\n",
       "      <td>110</td>\n",
       "      <td>105</td>\n",
       "      <td>2020-02-11</td>\n",
       "      <td>W</td>\n",
       "      <td>1</td>\n",
       "      <td>105.0</td>\n",
       "      <td>105.0</td>\n",
       "    </tr>\n",
       "  </tbody>\n",
       "</table>\n",
       "</div>"
      ],
      "text/plain": [
       "      Vegetable Quantity  MinPrice  MaxPrice  Average      cdate pricetype  \\\n",
       "99190     कागती   के.जी.       120       130      125 2020-02-15         W   \n",
       "99022     कागती   के.जी.       120       130      125 2020-02-14         W   \n",
       "98859     कागती   के.जी.       120       130      125 2020-02-13         W   \n",
       "98698     कागती   के.जी.       100       110      105 2020-02-12         W   \n",
       "98537     कागती   के.जी.       100       110      105 2020-02-11         W   \n",
       "\n",
       "       type    t_1    t_2  \n",
       "99190     1  125.0  125.0  \n",
       "99022     1  125.0  105.0  \n",
       "98859     1  105.0  105.0  \n",
       "98698     1  105.0  105.0  \n",
       "98537     1  105.0  105.0  "
      ]
     },
     "execution_count": 36,
     "metadata": {},
     "output_type": "execute_result"
    }
   ],
   "source": [
    "feature_df=pd.concat(feature_df)\n",
    "feature_df.head()"
   ]
  },
  {
   "cell_type": "code",
   "execution_count": 39,
   "metadata": {
    "colab": {},
    "colab_type": "code",
    "id": "dMJ0qMIN0_9B"
   },
   "outputs": [
    {
     "data": {
      "text/html": [
       "<div>\n",
       "<style scoped>\n",
       "    .dataframe tbody tr th:only-of-type {\n",
       "        vertical-align: middle;\n",
       "    }\n",
       "\n",
       "    .dataframe tbody tr th {\n",
       "        vertical-align: top;\n",
       "    }\n",
       "\n",
       "    .dataframe thead th {\n",
       "        text-align: right;\n",
       "    }\n",
       "</style>\n",
       "<table border=\"1\" class=\"dataframe\">\n",
       "  <thead>\n",
       "    <tr style=\"text-align: right;\">\n",
       "      <th></th>\n",
       "      <th>Vegetable</th>\n",
       "      <th>Quantity</th>\n",
       "      <th>MinPrice</th>\n",
       "      <th>MaxPrice</th>\n",
       "      <th>Average</th>\n",
       "      <th>cdate</th>\n",
       "      <th>pricetype</th>\n",
       "      <th>type</th>\n",
       "      <th>t_1</th>\n",
       "      <th>t_2</th>\n",
       "    </tr>\n",
       "  </thead>\n",
       "  <tbody>\n",
       "    <tr>\n",
       "      <td>73608</td>\n",
       "      <td>तितो करेला</td>\n",
       "      <td>के.जी.</td>\n",
       "      <td>50</td>\n",
       "      <td>60</td>\n",
       "      <td>55</td>\n",
       "      <td>2019-09-03</td>\n",
       "      <td>R</td>\n",
       "      <td>0</td>\n",
       "      <td>45.0</td>\n",
       "      <td>55.0</td>\n",
       "    </tr>\n",
       "    <tr>\n",
       "      <td>9533</td>\n",
       "      <td>फर्सी पाकेको</td>\n",
       "      <td>के.जी.</td>\n",
       "      <td>28</td>\n",
       "      <td>30</td>\n",
       "      <td>29</td>\n",
       "      <td>2018-05-07</td>\n",
       "      <td>W</td>\n",
       "      <td>1</td>\n",
       "      <td>29.0</td>\n",
       "      <td>29.0</td>\n",
       "    </tr>\n",
       "    <tr>\n",
       "      <td>2580</td>\n",
       "      <td>मूला सेतो(लोकल)</td>\n",
       "      <td>के.जी.</td>\n",
       "      <td>40</td>\n",
       "      <td>45</td>\n",
       "      <td>43</td>\n",
       "      <td>2018-03-17</td>\n",
       "      <td>R</td>\n",
       "      <td>0</td>\n",
       "      <td>45.0</td>\n",
       "      <td>38.0</td>\n",
       "    </tr>\n",
       "    <tr>\n",
       "      <td>54180</td>\n",
       "      <td>गाजर(लोकल)</td>\n",
       "      <td>के.जी.</td>\n",
       "      <td>24</td>\n",
       "      <td>26</td>\n",
       "      <td>25</td>\n",
       "      <td>2019-04-25</td>\n",
       "      <td>W</td>\n",
       "      <td>1</td>\n",
       "      <td>25.0</td>\n",
       "      <td>27.0</td>\n",
       "    </tr>\n",
       "    <tr>\n",
       "      <td>37453</td>\n",
       "      <td>फर्सी पाकेको</td>\n",
       "      <td>के.जी.</td>\n",
       "      <td>30</td>\n",
       "      <td>40</td>\n",
       "      <td>35</td>\n",
       "      <td>2018-12-18</td>\n",
       "      <td>R</td>\n",
       "      <td>0</td>\n",
       "      <td>23.0</td>\n",
       "      <td>35.0</td>\n",
       "    </tr>\n",
       "  </tbody>\n",
       "</table>\n",
       "</div>"
      ],
      "text/plain": [
       "             Vegetable Quantity  MinPrice  MaxPrice  Average      cdate  \\\n",
       "73608       तितो करेला   के.जी.        50        60       55 2019-09-03   \n",
       "9533      फर्सी पाकेको   के.जी.        28        30       29 2018-05-07   \n",
       "2580   मूला सेतो(लोकल)   के.जी.        40        45       43 2018-03-17   \n",
       "54180       गाजर(लोकल)   के.जी.        24        26       25 2019-04-25   \n",
       "37453     फर्सी पाकेको   के.जी.        30        40       35 2018-12-18   \n",
       "\n",
       "      pricetype  type   t_1   t_2  \n",
       "73608         R     0  45.0  55.0  \n",
       "9533          W     1  29.0  29.0  \n",
       "2580          R     0  45.0  38.0  \n",
       "54180         W     1  25.0  27.0  \n",
       "37453         R     0  23.0  35.0  "
      ]
     },
     "execution_count": 39,
     "metadata": {},
     "output_type": "execute_result"
    }
   ],
   "source": [
    "feature_df.dropna(inplace=True)# deleting row containing NAN\n",
    "\n",
    "feature_df.tail()"
   ]
  },
  {
   "cell_type": "code",
   "execution_count": 40,
   "metadata": {
    "colab": {},
    "colab_type": "code",
    "id": "nSu7F9h40_9M"
   },
   "outputs": [],
   "source": [
    "feature_df=feature_df.sample(frac=1 ,random_state=1)# random shuffling of data\n",
    "x=feature_df[['type','t_1','t_2']].values"
   ]
  },
  {
   "cell_type": "code",
   "execution_count": 41,
   "metadata": {
    "colab": {
     "base_uri": "https://localhost:8080/",
     "height": 134
    },
    "colab_type": "code",
    "id": "HeLCyUBI0_9X",
    "outputId": "711f1bc5-1658-485a-9667-25474382367b"
   },
   "outputs": [
    {
     "data": {
      "text/plain": [
       "array([[  1.,   1.,  35.,  31.],\n",
       "       [  1.,   0.,  65.,  55.],\n",
       "       [  1.,   0.,  63.,  63.],\n",
       "       ...,\n",
       "       [  1.,   1.,  28.,  28.],\n",
       "       [  1.,   0., 105., 105.],\n",
       "       [  1.,   1., 155., 155.]])"
      ]
     },
     "execution_count": 41,
     "metadata": {},
     "output_type": "execute_result"
    }
   ],
   "source": [
    "x = np.insert(x, 0, values=1, axis = 1) #adding bias or intercept term\n",
    "x\n"
   ]
  },
  {
   "cell_type": "code",
   "execution_count": 42,
   "metadata": {
    "colab": {
     "base_uri": "https://localhost:8080/",
     "height": 34
    },
    "colab_type": "code",
    "id": "sRjQqBGBZUHV",
    "outputId": "69a6b180-222d-45fe-a8d6-3fb6ca0e1737"
   },
   "outputs": [
    {
     "data": {
      "text/plain": [
       "(98822, 4)"
      ]
     },
     "execution_count": 42,
     "metadata": {},
     "output_type": "execute_result"
    }
   ],
   "source": [
    "x.shape"
   ]
  },
  {
   "cell_type": "code",
   "execution_count": 43,
   "metadata": {
    "colab": {
     "base_uri": "https://localhost:8080/",
     "height": 34
    },
    "colab_type": "code",
    "id": "4vVmpJzEZauO",
    "outputId": "d853d7f7-3882-43e6-9f5a-b34098fce454"
   },
   "outputs": [
    {
     "name": "stdout",
     "output_type": "stream",
     "text": [
      "(98822,)\n"
     ]
    }
   ],
   "source": [
    "y = feature_df['Average'].values\n",
    "print(y.shape)"
   ]
  },
  {
   "cell_type": "markdown",
   "metadata": {
    "colab_type": "text",
    "id": "m4PLkvQuZian"
   },
   "source": [
    "## split into train,val and test set"
   ]
  },
  {
   "cell_type": "code",
   "execution_count": 44,
   "metadata": {
    "colab": {
     "base_uri": "https://localhost:8080/",
     "height": 50
    },
    "colab_type": "code",
    "id": "rvzBjNt-HZUi",
    "outputId": "dc8a88bc-4c81-4fed-9585-ee12cdac7b05"
   },
   "outputs": [
    {
     "name": "stdout",
     "output_type": "stream",
     "text": [
      "59293 19764 19765\n",
      "59293 19764 19765\n"
     ]
    }
   ],
   "source": [
    "total=len(x)\n",
    "train=int(0.6*total)\n",
    "val=int(0.2*total)\n",
    "\n",
    "x_train=x[:train]\n",
    "y_train=y[:train].reshape(-1,1)\n",
    "\n",
    "x_val=x[train:train+val]\n",
    "y_val=y[train:train+val].reshape(-1,1)\n",
    "\n",
    "x_test=x[train+val:]\n",
    "y_test=y[train+val:].reshape(-1,1)\n",
    "\n",
    "print(len(x_train),len(x_val),len(x_test))\n",
    "print(len(y_train),len(y_val),len(y_test))\n"
   ]
  },
  {
   "cell_type": "markdown",
   "metadata": {
    "colab_type": "text",
    "id": "mI2PNPFyZwo4"
   },
   "source": [
    "## Min_Max Normalization\n",
    "to know max and min value from training set and used in validation and test set\n"
   ]
  },
  {
   "cell_type": "code",
   "execution_count": 45,
   "metadata": {
    "colab": {
     "base_uri": "https://localhost:8080/",
     "height": 134
    },
    "colab_type": "code",
    "id": "gFwElWdnZdvH",
    "outputId": "6ed20e12-30b0-4b3d-9333-076130ce543c"
   },
   "outputs": [
    {
     "data": {
      "text/plain": [
       "array([[  1.,   1.,  35.,  31.],\n",
       "       [  1.,   0.,  65.,  55.],\n",
       "       [  1.,   0.,  63.,  63.],\n",
       "       ...,\n",
       "       [  1.,   0.,  55.,  55.],\n",
       "       [  1.,   0.,  35.,  35.],\n",
       "       [  1.,   0., 135., 135.]])"
      ]
     },
     "execution_count": 45,
     "metadata": {},
     "output_type": "execute_result"
    }
   ],
   "source": [
    " \n",
    "x_train "
   ]
  },
  {
   "cell_type": "code",
   "execution_count": 46,
   "metadata": {
    "colab": {
     "base_uri": "https://localhost:8080/",
     "height": 134
    },
    "colab_type": "code",
    "id": "xlV3A01jZ3la",
    "outputId": "d3c7b08b-154e-47c1-dec4-8c473a2dc2d0"
   },
   "outputs": [
    {
     "data": {
      "text/plain": [
       "array([[ 35.,  31.],\n",
       "       [ 65.,  55.],\n",
       "       [ 63.,  63.],\n",
       "       ...,\n",
       "       [ 55.,  55.],\n",
       "       [ 35.,  35.],\n",
       "       [135., 135.]])"
      ]
     },
     "execution_count": 46,
     "metadata": {},
     "output_type": "execute_result"
    }
   ],
   "source": [
    "\n",
    "price_x=x_train[:,2:]\n",
    "price_x"
   ]
  },
  {
   "cell_type": "code",
   "execution_count": 47,
   "metadata": {
    "colab": {},
    "colab_type": "code",
    "id": "H8mU0YApZ6aa"
   },
   "outputs": [],
   "source": [
    "min_v=np.min(price_x)\n",
    "max_v=np.max(price_x)\n",
    "diff=max_v-min_v\n",
    "\n",
    "def min_max_normalization(dataset):\n",
    "    for i in range(0,dataset.shape[0]):# dataset.shape[0] no of rows\n",
    "        for j in range(2,dataset.shape[1]):#dataset.shape[1] no of column\n",
    "            dataset[i][j]=(dataset[i][j]-min_v)/diff "
   ]
  },
  {
   "cell_type": "code",
   "execution_count": 48,
   "metadata": {
    "colab": {},
    "colab_type": "code",
    "id": "JGmziAg3-2DJ"
   },
   "outputs": [],
   "source": [
    "min_max_normalization(x_train)\n",
    "min_max_normalization(x_val)\n",
    "min_max_normalization(x_test)"
   ]
  },
  {
   "cell_type": "code",
   "execution_count": 49,
   "metadata": {
    "colab": {
     "base_uri": "https://localhost:8080/",
     "height": 134
    },
    "colab_type": "code",
    "id": "ZNDYPKtMxpIe",
    "outputId": "3e03361b-761b-4d0a-f1dd-2f380f9e5379"
   },
   "outputs": [
    {
     "data": {
      "text/plain": [
       "array([[1.        , 1.        , 0.01608911, 0.01361386],\n",
       "       [1.        , 0.        , 0.03465347, 0.02846535],\n",
       "       [1.        , 0.        , 0.03341584, 0.03341584],\n",
       "       ...,\n",
       "       [1.        , 0.        , 0.02846535, 0.02846535],\n",
       "       [1.        , 0.        , 0.01608911, 0.01608911],\n",
       "       [1.        , 0.        , 0.0779703 , 0.0779703 ]])"
      ]
     },
     "execution_count": 49,
     "metadata": {},
     "output_type": "execute_result"
    }
   ],
   "source": [
    "x_train"
   ]
  },
  {
   "cell_type": "code",
   "execution_count": 50,
   "metadata": {
    "colab": {
     "base_uri": "https://localhost:8080/",
     "height": 118
    },
    "colab_type": "code",
    "id": "7ccoH_QG_RBV",
    "outputId": "3401578f-66ce-4a8f-cd35-8bb852405bd5"
   },
   "outputs": [
    {
     "name": "stdout",
     "output_type": "stream",
     "text": [
      "(59293, 4)\n",
      "(59293, 1)\n",
      "(19764, 4)\n",
      "(19764, 1)\n",
      "(19765, 4)\n",
      "(19765, 1)\n"
     ]
    }
   ],
   "source": [
    "print(x_train.shape)\n",
    "print(y_train.shape)\n",
    "print(x_val.shape)\n",
    "print(y_val.shape)\n",
    "print(x_test.shape)\n",
    "print(y_test.shape)"
   ]
  },
  {
   "cell_type": "markdown",
   "metadata": {
    "colab_type": "text",
    "id": "jk1r4UBQDDcf"
   },
   "source": [
    "### Build Model"
   ]
  },
  {
   "cell_type": "code",
   "execution_count": 51,
   "metadata": {
    "colab": {},
    "colab_type": "code",
    "id": "LSEQev5y_NGZ"
   },
   "outputs": [],
   "source": [
    "def MSE(h,y):\n",
    "    return 0.5*np.average((h-y)**2)"
   ]
  },
  {
   "cell_type": "code",
   "execution_count": 52,
   "metadata": {
    "colab": {},
    "colab_type": "code",
    "id": "iwqeEcoGDH-p"
   },
   "outputs": [],
   "source": [
    "\n",
    "np.random.seed(42)\n",
    "\n",
    "#hyperparameters\n",
    "param = {\n",
    "    'number_of_iterations': 1000,\n",
    "    'learning_rate': 0.001\n",
    "}\n",
    "\n",
    "grid_param = {\n",
    "    'number_of_iterations': [1000, 2000],\n",
    "    'learning_rate': [0.001,0.1]\n",
    "}"
   ]
  },
  {
   "cell_type": "code",
   "execution_count": 53,
   "metadata": {},
   "outputs": [],
   "source": [
    "def train_model(x_train, y_train, x_val, y_val, param):\n",
    "    W = np.random.rand(x_train.shape[1]).reshape(-1,1)\n",
    "    train_error = []\n",
    "    for i in range(1, param['number_of_iterations']):\n",
    "        h_train = np.matmul(x_train, W)# h=xw\n",
    "        train_loss = MSE(h_train, y_train)\n",
    "        train_error.append(train_loss)  \n",
    "\n",
    "        gradient = np.matmul(np.transpose(x_train),(h_train - y_train))/x_train.shape[0]\n",
    "        W = W - param['learning_rate'] * gradient   \n",
    "    h_val = np.matmul(x_val, W)\n",
    "    val_loss = MSE(h_val, y_val)\n",
    "    val_error=[val_loss]\n",
    "    return W, train_error, val_error\n",
    "#     print(param, val_loss)  \n"
   ]
  },
  {
   "cell_type": "markdown",
   "metadata": {},
   "source": [
    "## Grid search"
   ]
  },
  {
   "cell_type": "code",
   "execution_count": 54,
   "metadata": {},
   "outputs": [
    {
     "name": "stdout",
     "output_type": "stream",
     "text": [
      "[(1000, 0.001), (1000, 0.1), (2000, 0.001), (2000, 0.1)]\n"
     ]
    }
   ],
   "source": [
    "import itertools\n",
    "grid = list(itertools.product(grid_param['number_of_iterations'], grid_param['learning_rate']))\n",
    "print(grid)"
   ]
  },
  {
   "cell_type": "code",
   "execution_count": 55,
   "metadata": {
    "colab": {
     "base_uri": "https://localhost:8080/",
     "height": 1000
    },
    "colab_type": "code",
    "id": "Rs5YxFFc1AA7",
    "outputId": "b80bcba4-0b1e-47f4-e9a4-dda51b74d845"
   },
   "outputs": [
    {
     "name": "stdout",
     "output_type": "stream",
     "text": [
      "{'number_of_iterations': 1000, 'learning_rate': 0.001}\n",
      "[3884.654393660934]\n"
     ]
    },
    {
     "data": {
      "image/png": "[encoded data removed]",
      "text/plain": [
       "<Figure size 432x288 with 1 Axes>"
      ]
     },
     "metadata": {
      "needs_background": "light"
     },
     "output_type": "display_data"
    },
    {
     "name": "stdout",
     "output_type": "stream",
     "text": [
      "{'number_of_iterations': 1000, 'learning_rate': 0.1}\n",
      "[1248.7355919790446]\n"
     ]
    },
    {
     "data": {
      "image/png": "[encoded data removed]",
      "text/plain": [
       "<Figure size 432x288 with 1 Axes>"
      ]
     },
     "metadata": {
      "needs_background": "light"
     },
     "output_type": "display_data"
    },
    {
     "name": "stdout",
     "output_type": "stream",
     "text": [
      "{'number_of_iterations': 2000, 'learning_rate': 0.001}\n",
      "[3365.909386626661]\n"
     ]
    },
    {
     "data": {
      "image/png": "[encoded data removed]",
      "text/plain": [
       "<Figure size 432x288 with 1 Axes>"
      ]
     },
     "metadata": {
      "needs_background": "light"
     },
     "output_type": "display_data"
    },
    {
     "name": "stdout",
     "output_type": "stream",
     "text": [
      "{'number_of_iterations': 2000, 'learning_rate': 0.1}\n",
      "[539.8636936736576]\n"
     ]
    },
    {
     "data": {
      "image/png": "[encoded data removed]",
      "text/plain": [
       "<Figure size 432x288 with 1 Axes>"
      ]
     },
     "metadata": {
      "needs_background": "light"
     },
     "output_type": "display_data"
    }
   ],
   "source": [
    "for g in grid:\n",
    "    p={\n",
    "    'number_of_iterations':g[0],\n",
    "    'learning_rate':g[1],\n",
    "    }\n",
    "    print(p)\n",
    "    Weights,train_error,val_error=train_model(x_train,y_train,x_val,y_val,p)\n",
    "    print(val_error)\n",
    "    plt.plot(np.arange(len(train_error)),train_error)\n",
    "    plt.xlabel(\"No. of iterations\")\n",
    "    plt.ylabel(\"Training Error\")   \n",
    "    plt.show()\n"
   ]
  },
  {
   "cell_type": "markdown",
   "metadata": {
    "colab_type": "text",
    "id": "Y-JyjyQK58to"
   },
   "source": [
    "## Train Loss Plot for Best Model"
   ]
  },
  {
   "cell_type": "code",
   "execution_count": 88,
   "metadata": {
    "colab": {
     "base_uri": "https://localhost:8080/",
     "height": 229
    },
    "colab_type": "code",
    "id": "eUmMEzCY5ZaB",
    "outputId": "1afd47f3-2767-4637-bea8-112f8e915b16"
   },
   "outputs": [],
   "source": [
    "final_param = {'number_of_iterations':2000, 'learning_rate':0.1} \n",
    "model_weights=train_model(x_train,y_train,x_val,y_val,final_param)\n",
    "\n",
    "\n",
    "\n",
    "#error  too many values to unpack (expected 2)\n",
    "# final_param = {'number_of_iterations':2000, 'learning_rate':0.1} \n",
    "# model_weights,train_loss=train_model(x_train,y_train,x_val,y_val,final_param)\n"
   ]
  },
  {
   "cell_type": "code",
   "execution_count": 93,
   "metadata": {
    "colab": {
     "base_uri": "https://localhost:8080/",
     "height": 706
    },
    "colab_type": "code",
    "id": "jIAA2gLy5ZXK",
    "outputId": "7b4b3210-9c37-4408-8161-000cbe0b1432"
   },
   "outputs": [],
   "source": [
    "plt.plot(train_loss)\n",
    "plt.xlabel(\"Number of Iterations\")\n",
    "plt.ylabel(\"Training Loss\")\n",
    "plt.grid()\n",
    "plt.show()"
   ]
  },
  {
   "cell_type": "code",
   "execution_count": 90,
   "metadata": {},
   "outputs": [],
   "source": [
    "model_weights=model_weights[0]"
   ]
  },
  {
   "cell_type": "code",
   "execution_count": 91,
   "metadata": {
    "colab": {},
    "colab_type": "code",
    "id": "_Y7h_goI1ABc"
   },
   "outputs": [
    {
     "data": {
      "text/plain": [
       "array([[ 51.46945035],\n",
       "       [ -9.22384589],\n",
       "       [500.94432109],\n",
       "       [492.68727369]])"
      ]
     },
     "execution_count": 91,
     "metadata": {},
     "output_type": "execute_result"
    }
   ],
   "source": [
    "\n",
    "model_weights"
   ]
  },
  {
   "cell_type": "markdown",
   "metadata": {
    "colab": {},
    "colab_type": "code",
    "id": "wPBdu8-A_hGz"
   },
   "source": [
    "## Model Evaluation with R2 Score"
   ]
  },
  {
   "cell_type": "code",
   "execution_count": 92,
   "metadata": {
    "colab": {},
    "colab_type": "code",
    "id": "bluSSpEO1AB7"
   },
   "outputs": [
    {
     "data": {
      "text/plain": [
       "0.8328823181686759"
      ]
     },
     "execution_count": 92,
     "metadata": {},
     "output_type": "execute_result"
    }
   ],
   "source": [
    "y_mean = np.mean(y_test)\n",
    "\n",
    "h_test = np.matmul(x_test, model_weights)\n",
    "n = x_test.shape[0]\n",
    "k = x_test.shape[1] - 1\n",
    "\n",
    "SST =np.sum(np.square(y_test - y_mean))\n",
    "SSR =np.sum(np.square(h_test- y_mean))\n",
    "SSE=np.sum(np.square(h_test-y_test))\n",
    "R2 = 1 - SSE/SST\n",
    "R2"
   ]
  },
  {
   "cell_type": "code",
   "execution_count": null,
   "metadata": {},
   "outputs": [],
   "source": []
  }
 ],
 "metadata": {
  "colab": {
   "collapsed_sections": [],
   "machine_shape": "hm",
   "name": "LinearRegressionother.ipynb",
   "provenance": []
  },
  "kernelspec": {
   "display_name": "Python 3",
   "language": "python",
   "name": "python3"
  },
  "language_info": {
   "codemirror_mode": {
    "name": "ipython",
    "version": 3
   },
   "file_extension": ".py",
   "mimetype": "text/x-python",
   "name": "python",
   "nbconvert_exporter": "python",
   "pygments_lexer": "ipython3",
   "version": "3.7.4"
  }
 },
 "nbformat": 4,
 "nbformat_minor": 1
}
