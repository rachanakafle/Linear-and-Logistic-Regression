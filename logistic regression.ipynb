{
 "cells": [
  {
   "cell_type": "code",
   "execution_count": 22,
   "metadata": {},
   "outputs": [],
   "source": [
    "import pandas as pd\n",
    "import numpy as np\n",
    "import matplotlib.pyplot as plt"
   ]
  },
  {
   "cell_type": "markdown",
   "metadata": {},
   "source": [
    "## Load Data"
   ]
  },
  {
   "cell_type": "code",
   "execution_count": 23,
   "metadata": {},
   "outputs": [
    {
     "data": {
      "text/html": [
       "<div>\n",
       "<style scoped>\n",
       "    .dataframe tbody tr th:only-of-type {\n",
       "        vertical-align: middle;\n",
       "    }\n",
       "\n",
       "    .dataframe tbody tr th {\n",
       "        vertical-align: top;\n",
       "    }\n",
       "\n",
       "    .dataframe thead th {\n",
       "        text-align: right;\n",
       "    }\n",
       "</style>\n",
       "<table border=\"1\" class=\"dataframe\">\n",
       "  <thead>\n",
       "    <tr style=\"text-align: right;\">\n",
       "      <th></th>\n",
       "      <th>Phrase</th>\n",
       "      <th>label</th>\n",
       "    </tr>\n",
       "  </thead>\n",
       "  <tbody>\n",
       "    <tr>\n",
       "      <td>0</td>\n",
       "      <td>Spider-man is better than any summer blockbust...</td>\n",
       "      <td>Positive</td>\n",
       "    </tr>\n",
       "    <tr>\n",
       "      <td>1</td>\n",
       "      <td>of good sense</td>\n",
       "      <td>Positive</td>\n",
       "    </tr>\n",
       "    <tr>\n",
       "      <td>2</td>\n",
       "      <td>, then knock yourself out and enjoy the big sc...</td>\n",
       "      <td>Negative</td>\n",
       "    </tr>\n",
       "    <tr>\n",
       "      <td>3</td>\n",
       "      <td>So could young romantics out on a date .</td>\n",
       "      <td>Positive</td>\n",
       "    </tr>\n",
       "    <tr>\n",
       "      <td>4</td>\n",
       "      <td>humour</td>\n",
       "      <td>Positive</td>\n",
       "    </tr>\n",
       "  </tbody>\n",
       "</table>\n",
       "</div>"
      ],
      "text/plain": [
       "                                              Phrase     label\n",
       "0  Spider-man is better than any summer blockbust...  Positive\n",
       "1                                      of good sense  Positive\n",
       "2  , then knock yourself out and enjoy the big sc...  Negative\n",
       "3           So could young romantics out on a date .  Positive\n",
       "4                                             humour  Positive"
      ]
     },
     "execution_count": 23,
     "metadata": {},
     "output_type": "execute_result"
    }
   ],
   "source": [
    "df=pd.read_csv(\"sentiment.csv\")\n",
    "df.head()"
   ]
  },
  {
   "cell_type": "code",
   "execution_count": 24,
   "metadata": {},
   "outputs": [
    {
     "data": {
      "text/plain": [
       "2800"
      ]
     },
     "execution_count": 24,
     "metadata": {},
     "output_type": "execute_result"
    }
   ],
   "source": [
    "len(df)"
   ]
  },
  {
   "cell_type": "markdown",
   "metadata": {},
   "source": [
    "## Data Analysis and visualization"
   ]
  },
  {
   "cell_type": "markdown",
   "metadata": {},
   "source": [
    "### count of number of Phrases according to Label types"
   ]
  },
  {
   "cell_type": "code",
   "execution_count": 71,
   "metadata": {},
   "outputs": [],
   "source": [
    "from collections import Counter"
   ]
  },
  {
   "cell_type": "code",
   "execution_count": 72,
   "metadata": {},
   "outputs": [
    {
     "name": "stdout",
     "output_type": "stream",
     "text": [
      "Counter({'Positive': 1800, 'Negative': 1000})\n"
     ]
    }
   ],
   "source": [
    "\n",
    "labels_count=Counter(df['label']) \n",
    "print(labels_count)"
   ]
  },
  {
   "cell_type": "code",
   "execution_count": 73,
   "metadata": {},
   "outputs": [
    {
     "data": {
      "text/plain": [
       "Text(0.5, 1.0, 'Number of phrase of each label types')"
      ]
     },
     "execution_count": 73,
     "metadata": {},
     "output_type": "execute_result"
    },
    {
     "data": {
      "image/png": "[encoded data removed]",
      "text/plain": [
       "<Figure size 432x288 with 1 Axes>"
      ]
     },
     "metadata": {
      "needs_background": "light"
     },
     "output_type": "display_data"
    }
   ],
   "source": [
    "plt.bar(range(len(labels_count)),list(labels_count.values()),tick_label=list(labels_count.keys()))\n",
    "plt.xlabel(\"Labels Types \")\n",
    "plt.ylabel(\"Number of Phrases\")\n",
    "plt.title(\"Number of phrase of each label types\")"
   ]
  },
  {
   "cell_type": "markdown",
   "metadata": {},
   "source": [
    "# Split into train,val and test set\n"
   ]
  },
  {
   "cell_type": "code",
   "execution_count": 27,
   "metadata": {},
   "outputs": [
    {
     "name": "stdout",
     "output_type": "stream",
     "text": [
      "1680 560\n"
     ]
    }
   ],
   "source": [
    "total_len=len(df)\n",
    "train_len=int(0.6*total_len)\n",
    "val_len=int(0.2*total_len)\n",
    "print(train_len,val_len)\n"
   ]
  },
  {
   "cell_type": "code",
   "execution_count": 28,
   "metadata": {},
   "outputs": [],
   "source": [
    "train_df=df[0:train_len]\n",
    "val_df=df[train_len:train_len+val_len]\n",
    "test_df=df[train_len+val_len:]"
   ]
  },
  {
   "cell_type": "code",
   "execution_count": 29,
   "metadata": {},
   "outputs": [
    {
     "name": "stdout",
     "output_type": "stream",
     "text": [
      "13855 1844\n"
     ]
    }
   ],
   "source": [
    "\n",
    "vocab=list() \n",
    "for i in train_df.Phrase.tolist():\n",
    "    vocab.extend(i.split(\" \")) \n",
    "u_vocab=list(set(vocab))#set gives only unique values  \n",
    "print(len(vocab), len(u_vocab))\n",
    "    "
   ]
  },
  {
   "cell_type": "markdown",
   "metadata": {},
   "source": [
    "# Feature extraction"
   ]
  },
  {
   "cell_type": "code",
   "execution_count": 30,
   "metadata": {},
   "outputs": [
    {
     "data": {
      "text/html": [
       "<div>\n",
       "<style scoped>\n",
       "    .dataframe tbody tr th:only-of-type {\n",
       "        vertical-align: middle;\n",
       "    }\n",
       "\n",
       "    .dataframe tbody tr th {\n",
       "        vertical-align: top;\n",
       "    }\n",
       "\n",
       "    .dataframe thead th {\n",
       "        text-align: right;\n",
       "    }\n",
       "</style>\n",
       "<table border=\"1\" class=\"dataframe\">\n",
       "  <thead>\n",
       "    <tr style=\"text-align: right;\">\n",
       "      <th></th>\n",
       "      <th>Phrase</th>\n",
       "      <th>label</th>\n",
       "    </tr>\n",
       "  </thead>\n",
       "  <tbody>\n",
       "    <tr>\n",
       "      <td>0</td>\n",
       "      <td>Spider-man is better than any summer blockbust...</td>\n",
       "      <td>Positive</td>\n",
       "    </tr>\n",
       "    <tr>\n",
       "      <td>1</td>\n",
       "      <td>of good sense</td>\n",
       "      <td>Positive</td>\n",
       "    </tr>\n",
       "    <tr>\n",
       "      <td>2</td>\n",
       "      <td>, then knock yourself out and enjoy the big sc...</td>\n",
       "      <td>Negative</td>\n",
       "    </tr>\n",
       "    <tr>\n",
       "      <td>3</td>\n",
       "      <td>So could young romantics out on a date .</td>\n",
       "      <td>Positive</td>\n",
       "    </tr>\n",
       "    <tr>\n",
       "      <td>4</td>\n",
       "      <td>humour</td>\n",
       "      <td>Positive</td>\n",
       "    </tr>\n",
       "  </tbody>\n",
       "</table>\n",
       "</div>"
      ],
      "text/plain": [
       "                                              Phrase     label\n",
       "0  Spider-man is better than any summer blockbust...  Positive\n",
       "1                                      of good sense  Positive\n",
       "2  , then knock yourself out and enjoy the big sc...  Negative\n",
       "3           So could young romantics out on a date .  Positive\n",
       "4                                             humour  Positive"
      ]
     },
     "execution_count": 30,
     "metadata": {},
     "output_type": "execute_result"
    }
   ],
   "source": [
    "train_df.head()"
   ]
  },
  {
   "cell_type": "code",
   "execution_count": 31,
   "metadata": {},
   "outputs": [],
   "source": [
    "def extract_feature(f_df):\n",
    "    feature = []\n",
    "    label = []\n",
    "    for index, row in train_df.iterrows():\n",
    "        words = row['Phrase'].split(\" \")\n",
    "        f = []\n",
    "        for v in u_vocab:\n",
    "            if v in words:\n",
    "                f.append(1)\n",
    "            else:\n",
    "                f.append(0)\n",
    "        if row['label'] == \"Positive\":\n",
    "            label.append(1)\n",
    "        elif row['label'] == \"Negative\":\n",
    "            label.append(0)\n",
    "\n",
    "        feature.append(f)\n",
    "    feature = np.array(feature)\n",
    "    label = np.array(label)\n",
    "    label = label.reshape(-1,1)\n",
    "    return feature, label"
   ]
  },
  {
   "cell_type": "code",
   "execution_count": 32,
   "metadata": {},
   "outputs": [],
   "source": [
    "x_train, y_train=extract_feature(train_df)\n",
    "x_val,y_val=extract_feature(val_df)\n",
    "x_test,y_test=extract_feature(test_df)\n"
   ]
  },
  {
   "cell_type": "code",
   "execution_count": 33,
   "metadata": {},
   "outputs": [],
   "source": [
    "x_train=np.insert(x_train,0,values=1,axis=1)\n",
    "x_val=np.insert(x_val,0,values=1,axis=1)\n",
    "x_test=np.insert(x_test,0,values=1,axis=1)"
   ]
  },
  {
   "cell_type": "code",
   "execution_count": 34,
   "metadata": {},
   "outputs": [
    {
     "name": "stdout",
     "output_type": "stream",
     "text": [
      "(1680, 1845)\n",
      "(1680, 1845)\n"
     ]
    }
   ],
   "source": [
    "print(x_test.shape)\n",
    "print(x_train.shape)"
   ]
  },
  {
   "cell_type": "markdown",
   "metadata": {},
   "source": [
    "## Build Model"
   ]
  },
  {
   "cell_type": "code",
   "execution_count": 35,
   "metadata": {},
   "outputs": [],
   "source": [
    "#Binary cross Entropy loss\n",
    "def CEL(h,y):\n",
    "    return (-y*np.log(h)-(1-y)*np.log(1-h)).mean()\n",
    "\n"
   ]
  },
  {
   "cell_type": "code",
   "execution_count": 44,
   "metadata": {},
   "outputs": [],
   "source": [
    "np.random.seed(42)\n",
    "\n",
    "\n",
    "params = {\n",
    "    'number_of_iterations': 1000,\n",
    "    'learning_rate': 0.0001\n",
    "}\n",
    "\n",
    "grid_param = {\n",
    "    'number_of_iterations': [1000, 2000],\n",
    "    'learning_rate': [0.001,0.1]\n",
    "}"
   ]
  },
  {
   "cell_type": "code",
   "execution_count": 45,
   "metadata": {},
   "outputs": [],
   "source": [
    "def sigmoid(z):\n",
    "    return 1/(1+np.exp(-z))"
   ]
  },
  {
   "cell_type": "code",
   "execution_count": 46,
   "metadata": {},
   "outputs": [],
   "source": [
    "    \n",
    "def train_model(X_train,y_train, X_val, y_val, param):\n",
    "    W=np.random.rand(X_train.shape[1]).reshape(-1,1)\n",
    "    train_error=[]\n",
    "    for i in range(1,param[\"number_of_iterations\"]):\n",
    "        h_train=sigmoid(np.matmul(X_train,W))\n",
    "        train_loss=CEL(h_train,y_train)\n",
    "        \n",
    "        train_error.append(train_loss)\n",
    "        \n",
    "        gradient=(np.matmul(np.transpose(X_train),(h_train-y_train)))/X_train.shape[0]\n",
    "        W-=params[\"learning_rate\"]*gradient\n",
    "        \n",
    "    h_val=sigmoid(np.matmul(X_val,W))\n",
    "    val_loss=CEL(h_val,y_val)        \n",
    "    print(param,val_loss)\n",
    "    return W,train_error"
   ]
  },
  {
   "cell_type": "markdown",
   "metadata": {},
   "source": [
    "## Grid Search"
   ]
  },
  {
   "cell_type": "code",
   "execution_count": 47,
   "metadata": {},
   "outputs": [
    {
     "name": "stdout",
     "output_type": "stream",
     "text": [
      "[(1000, 0.001), (1000, 0.1), (2000, 0.001), (2000, 0.1)]\n"
     ]
    }
   ],
   "source": [
    "#grid search parameter with val loss\n",
    "import itertools\n",
    "grid = list(itertools.product(grid_param['number_of_iterations'],grid_param['learning_rate']))\n",
    "print(grid)"
   ]
  },
  {
   "cell_type": "code",
   "execution_count": 51,
   "metadata": {},
   "outputs": [
    {
     "name": "stdout",
     "output_type": "stream",
     "text": [
      "{'number_of_iterations': 1000, 'learning_rate': 0.001} 1.8231977442458083\n",
      "{'number_of_iterations': 1000, 'learning_rate': 0.1} 1.7441895766951088\n",
      "{'number_of_iterations': 2000, 'learning_rate': 0.001} 1.7864027477089286\n",
      "{'number_of_iterations': 2000, 'learning_rate': 0.1} 1.739627801250276\n"
     ]
    }
   ],
   "source": [
    "for g in grid:\n",
    "    p={\n",
    "        'number_of_iterations':g[0],\n",
    "        'learning_rate':g[1]\n",
    "    }\n",
    "    train_model(x_train,y_train,x_val,y_val,p)"
   ]
  },
  {
   "cell_type": "markdown",
   "metadata": {},
   "source": [
    "## Train Loss Plot for Best Model"
   ]
  },
  {
   "cell_type": "code",
   "execution_count": 57,
   "metadata": {},
   "outputs": [
    {
     "name": "stdout",
     "output_type": "stream",
     "text": [
      "{'number_of_iterations': 2000, 'learning_rate': 0.1} 0.4194143254576193\n"
     ]
    }
   ],
   "source": [
    "params={\n",
    "    'number_of_iterations':2000,\n",
    "    'learning_rate':0.1\n",
    "}\n",
    "final_weights,train_loss=train_model(x_train,y_train,x_val,y_val,params)"
   ]
  },
  {
   "cell_type": "code",
   "execution_count": 58,
   "metadata": {},
   "outputs": [
    {
     "data": {
      "image/png": "[encoded data removed]",
      "text/plain": [
       "<Figure size 432x288 with 1 Axes>"
      ]
     },
     "metadata": {
      "needs_background": "light"
     },
     "output_type": "display_data"
    }
   ],
   "source": [
    "\n",
    "plt.plot(train_loss)\n",
    "plt.xlabel(\"Number of Iterations\")\n",
    "plt.ylabel(\"Training Loss\")\n",
    "plt.grid()\n",
    "plt.show()"
   ]
  },
  {
   "cell_type": "markdown",
   "metadata": {},
   "source": [
    "## Model Evalution"
   ]
  },
  {
   "cell_type": "code",
   "execution_count": 59,
   "metadata": {},
   "outputs": [],
   "source": [
    "\n",
    "def predict(X_test,final_weights,threshold):\n",
    "    predictions=sigmoid(np.matmul(X_test,final_weights))\n",
    "    final_predictions=[]\n",
    "    for x in predictions:\n",
    "        if x>=threshold:\n",
    "            final_predictions.append(1)\n",
    "        else:\n",
    "            final_predictions.append(0)\n",
    "    return final_predictions"
   ]
  },
  {
   "cell_type": "code",
   "execution_count": 61,
   "metadata": {},
   "outputs": [],
   "source": [
    "predictions=predict(x_test,final_weights,0.5)"
   ]
  },
  {
   "cell_type": "markdown",
   "metadata": {},
   "source": [
    "## confusion matrix "
   ]
  },
  {
   "cell_type": "code",
   "execution_count": 62,
   "metadata": {},
   "outputs": [],
   "source": [
    "\n",
    "def get_confusion_matrix(actual,predicted):\n",
    "    confusion_matrix=np.zeros((2,2))\n",
    "    for x,y in zip(actual,predicted):\n",
    "        confusion_matrix[x,y] +=1\n",
    "    return confusion_matrix"
   ]
  },
  {
   "cell_type": "code",
   "execution_count": 63,
   "metadata": {},
   "outputs": [
    {
     "name": "stdout",
     "output_type": "stream",
     "text": [
      "[[ 323.  271.]\n",
      " [  60. 1026.]]\n"
     ]
    }
   ],
   "source": [
    "\n",
    "confusion_matrix=get_confusion_matrix(y_test,predictions)\n",
    "print(confusion_matrix)"
   ]
  },
  {
   "cell_type": "markdown",
   "metadata": {},
   "source": [
    "## Accuracy \n",
    "(TP+TN)/(Tp+TN+FP+FN)"
   ]
  },
  {
   "cell_type": "code",
   "execution_count": 64,
   "metadata": {},
   "outputs": [
    {
     "name": "stdout",
     "output_type": "stream",
     "text": [
      "0.8029761904761905\n"
     ]
    }
   ],
   "source": [
    "accuracy=(confusion_matrix[0][0]+confusion_matrix[1][1])/np.sum(confusion_matrix)\n",
    "print(accuracy)"
   ]
  },
  {
   "cell_type": "markdown",
   "metadata": {},
   "source": [
    "## Recall\n",
    "TP/(TP+FN)"
   ]
  },
  {
   "cell_type": "code",
   "execution_count": 65,
   "metadata": {},
   "outputs": [
    {
     "data": {
      "text/plain": [
       "0.5437710437710438"
      ]
     },
     "execution_count": 65,
     "metadata": {},
     "output_type": "execute_result"
    }
   ],
   "source": [
    "\n",
    "recall=(confusion_matrix[0][0])/(confusion_matrix[0][0]+confusion_matrix[0][1])\n",
    "recall"
   ]
  },
  {
   "cell_type": "markdown",
   "metadata": {},
   "source": [
    "## Precision\n",
    "TP/(TP+FP) \n"
   ]
  },
  {
   "cell_type": "code",
   "execution_count": 66,
   "metadata": {},
   "outputs": [
    {
     "data": {
      "text/plain": [
       "0.8433420365535248"
      ]
     },
     "execution_count": 66,
     "metadata": {},
     "output_type": "execute_result"
    }
   ],
   "source": [
    "precision=(confusion_matrix[0][0])/(confusion_matrix[0][0]+confusion_matrix[1][0])\n",
    "precision"
   ]
  },
  {
   "cell_type": "markdown",
   "metadata": {},
   "source": [
    "# F1-Score "
   ]
  },
  {
   "cell_type": "code",
   "execution_count": 67,
   "metadata": {},
   "outputs": [
    {
     "data": {
      "text/plain": [
       "0.661207778915046"
      ]
     },
     "execution_count": 67,
     "metadata": {},
     "output_type": "execute_result"
    }
   ],
   "source": [
    "\n",
    "f1_score=(2*recall*precision)/(recall+precision)\n",
    "f1_score"
   ]
  },
  {
   "cell_type": "markdown",
   "metadata": {},
   "source": [
    "# ROC Curve"
   ]
  },
  {
   "cell_type": "code",
   "execution_count": 69,
   "metadata": {},
   "outputs": [],
   "source": [
    "TPR=[]\n",
    "FPR=[]\n",
    "for threshold in np.arange(0,1,0.1):\n",
    "    predictions=predict(x_test,final_weights,threshold)\n",
    "    confusion_matrix=get_confusion_matrix(y_test,predictions)\n",
    "    true_pos_rate=(confusion_matrix[0][0])/(confusion_matrix[0][0]+confusion_matrix[0][1])\n",
    "    false_pos_rate=(confusion_matrix[1][0])/(confusion_matrix[1][0]+confusion_matrix[1][1])\n",
    "    TPR.append(true_pos_rate)\n",
    "    FPR.append(false_pos_rate)"
   ]
  },
  {
   "cell_type": "code",
   "execution_count": 70,
   "metadata": {},
   "outputs": [
    {
     "data": {
      "image/png": "[encoded data removed]",
      "text/plain": [
       "<Figure size 432x288 with 1 Axes>"
      ]
     },
     "metadata": {
      "needs_background": "light"
     },
     "output_type": "display_data"
    }
   ],
   "source": [
    "base=np.arange(0,1,0.1)\n",
    "plt.plot(FPR,TPR,linestyle='--',label='ROC Curve')\n",
    "plt.plot(base,base,label='Base Line')\n",
    "plt.xlabel('False Positive Rate')\n",
    "plt.ylabel('True Positive Rate')\n",
    "plt.legend()\n",
    "plt.grid()\n",
    "plt.show()\n"
   ]
  },
  {
   "cell_type": "code",
   "execution_count": null,
   "metadata": {},
   "outputs": [],
   "source": []
  }
 ],
 "metadata": {
  "kernelspec": {
   "display_name": "Python 3",
   "language": "python",
   "name": "python3"
  },
  "language_info": {
   "codemirror_mode": {
    "name": "ipython",
    "version": 3
   },
   "file_extension": ".py",
   "mimetype": "text/x-python",
   "name": "python",
   "nbconvert_exporter": "python",
   "pygments_lexer": "ipython3",
   "version": "3.7.4"
  }
 },
 "nbformat": 4,
 "nbformat_minor": 2
}
