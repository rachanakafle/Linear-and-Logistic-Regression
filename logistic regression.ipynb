{
 "cells": [
  {
   "cell_type": "code",
   "execution_count": 1,
   "metadata": {},
   "outputs": [],
   "source": [
    "import pandas as pd\n",
    "import numpy as np\n",
    "import matplotlib.pyplot as plt"
   ]
  },
  {
   "cell_type": "markdown",
   "metadata": {},
   "source": [
    "## Analysis"
   ]
  },
  {
   "cell_type": "code",
   "execution_count": 2,
   "metadata": {},
   "outputs": [
    {
     "data": {
      "text/html": [
       "<div>\n",
       "<style scoped>\n",
       "    .dataframe tbody tr th:only-of-type {\n",
       "        vertical-align: middle;\n",
       "    }\n",
       "\n",
       "    .dataframe tbody tr th {\n",
       "        vertical-align: top;\n",
       "    }\n",
       "\n",
       "    .dataframe thead th {\n",
       "        text-align: right;\n",
       "    }\n",
       "</style>\n",
       "<table border=\"1\" class=\"dataframe\">\n",
       "  <thead>\n",
       "    <tr style=\"text-align: right;\">\n",
       "      <th></th>\n",
       "      <th>Phrase</th>\n",
       "      <th>label</th>\n",
       "    </tr>\n",
       "  </thead>\n",
       "  <tbody>\n",
       "    <tr>\n",
       "      <td>0</td>\n",
       "      <td>Spider-man is better than any summer blockbust...</td>\n",
       "      <td>Positive</td>\n",
       "    </tr>\n",
       "    <tr>\n",
       "      <td>1</td>\n",
       "      <td>of good sense</td>\n",
       "      <td>Positive</td>\n",
       "    </tr>\n",
       "    <tr>\n",
       "      <td>2</td>\n",
       "      <td>, then knock yourself out and enjoy the big sc...</td>\n",
       "      <td>Negative</td>\n",
       "    </tr>\n",
       "    <tr>\n",
       "      <td>3</td>\n",
       "      <td>So could young romantics out on a date .</td>\n",
       "      <td>Positive</td>\n",
       "    </tr>\n",
       "    <tr>\n",
       "      <td>4</td>\n",
       "      <td>humour</td>\n",
       "      <td>Positive</td>\n",
       "    </tr>\n",
       "  </tbody>\n",
       "</table>\n",
       "</div>"
      ],
      "text/plain": [
       "                                              Phrase     label\n",
       "0  Spider-man is better than any summer blockbust...  Positive\n",
       "1                                      of good sense  Positive\n",
       "2  , then knock yourself out and enjoy the big sc...  Negative\n",
       "3           So could young romantics out on a date .  Positive\n",
       "4                                             humour  Positive"
      ]
     },
     "execution_count": 2,
     "metadata": {},
     "output_type": "execute_result"
    }
   ],
   "source": [
    "df=pd.read_csv(\"sentiment.csv\")\n",
    "df.head()"
   ]
  },
  {
   "cell_type": "code",
   "execution_count": 3,
   "metadata": {},
   "outputs": [
    {
     "data": {
      "text/plain": [
       "2800"
      ]
     },
     "execution_count": 3,
     "metadata": {},
     "output_type": "execute_result"
    }
   ],
   "source": [
    "len(df)"
   ]
  },
  {
   "cell_type": "code",
   "execution_count": 36,
   "metadata": {},
   "outputs": [
    {
     "name": "stdout",
     "output_type": "stream",
     "text": [
      "1800\n"
     ]
    }
   ],
   "source": [
    "positive_sentence=len(df[df.label==\"Positive\"])\n",
    "print(positive_sentence)"
   ]
  },
  {
   "cell_type": "code",
   "execution_count": 37,
   "metadata": {},
   "outputs": [
    {
     "name": "stdout",
     "output_type": "stream",
     "text": [
      "1000\n"
     ]
    }
   ],
   "source": [
    "negative_sentence=len(df[df.label==\"Negative\"])\n",
    "print(negative_sentence)"
   ]
  },
  {
   "cell_type": "markdown",
   "metadata": {},
   "source": [
    "#  split into Train set,val set and test set\n"
   ]
  },
  {
   "cell_type": "code",
   "execution_count": 5,
   "metadata": {},
   "outputs": [
    {
     "name": "stdout",
     "output_type": "stream",
     "text": [
      "1680 560\n"
     ]
    }
   ],
   "source": [
    "total_len=len(df)\n",
    "train_len=int(0.6*total_len)\n",
    "val_len=int(0.2*total_len)\n",
    "print(train_len,val_len)\n"
   ]
  },
  {
   "cell_type": "code",
   "execution_count": 6,
   "metadata": {},
   "outputs": [
    {
     "data": {
      "text/plain": [
       "1680"
      ]
     },
     "execution_count": 6,
     "metadata": {},
     "output_type": "execute_result"
    }
   ],
   "source": [
    "train_df=df[0:train_len]\n",
    "val_df=df[train_len:train_len+val_len]\n",
    "test_df=df[train_len+val_len:]\n",
    "len(train_df)"
   ]
  },
  {
   "cell_type": "code",
   "execution_count": 7,
   "metadata": {},
   "outputs": [
    {
     "name": "stdout",
     "output_type": "stream",
     "text": [
      "13855 1844\n"
     ]
    }
   ],
   "source": [
    "vocab=list() \n",
    "for i in train_df.Phrase.tolist():\n",
    "#     print(i)\n",
    "#     print(i.split(\" \"))\n",
    "    vocab.extend(i.split(\" \"))\n",
    "# set gives only unique values  \n",
    "u_vocab=list(set(vocab)) \n",
    "# print(len(u_vocab))\n",
    "print(len(vocab), len(u_vocab))\n",
    "    "
   ]
  },
  {
   "cell_type": "markdown",
   "metadata": {},
   "source": [
    "# feature extraction"
   ]
  },
  {
   "cell_type": "code",
   "execution_count": 8,
   "metadata": {},
   "outputs": [
    {
     "data": {
      "text/html": [
       "<div>\n",
       "<style scoped>\n",
       "    .dataframe tbody tr th:only-of-type {\n",
       "        vertical-align: middle;\n",
       "    }\n",
       "\n",
       "    .dataframe tbody tr th {\n",
       "        vertical-align: top;\n",
       "    }\n",
       "\n",
       "    .dataframe thead th {\n",
       "        text-align: right;\n",
       "    }\n",
       "</style>\n",
       "<table border=\"1\" class=\"dataframe\">\n",
       "  <thead>\n",
       "    <tr style=\"text-align: right;\">\n",
       "      <th></th>\n",
       "      <th>Phrase</th>\n",
       "      <th>label</th>\n",
       "    </tr>\n",
       "  </thead>\n",
       "  <tbody>\n",
       "    <tr>\n",
       "      <td>0</td>\n",
       "      <td>Spider-man is better than any summer blockbust...</td>\n",
       "      <td>Positive</td>\n",
       "    </tr>\n",
       "    <tr>\n",
       "      <td>1</td>\n",
       "      <td>of good sense</td>\n",
       "      <td>Positive</td>\n",
       "    </tr>\n",
       "    <tr>\n",
       "      <td>2</td>\n",
       "      <td>, then knock yourself out and enjoy the big sc...</td>\n",
       "      <td>Negative</td>\n",
       "    </tr>\n",
       "    <tr>\n",
       "      <td>3</td>\n",
       "      <td>So could young romantics out on a date .</td>\n",
       "      <td>Positive</td>\n",
       "    </tr>\n",
       "    <tr>\n",
       "      <td>4</td>\n",
       "      <td>humour</td>\n",
       "      <td>Positive</td>\n",
       "    </tr>\n",
       "  </tbody>\n",
       "</table>\n",
       "</div>"
      ],
      "text/plain": [
       "                                              Phrase     label\n",
       "0  Spider-man is better than any summer blockbust...  Positive\n",
       "1                                      of good sense  Positive\n",
       "2  , then knock yourself out and enjoy the big sc...  Negative\n",
       "3           So could young romantics out on a date .  Positive\n",
       "4                                             humour  Positive"
      ]
     },
     "execution_count": 8,
     "metadata": {},
     "output_type": "execute_result"
    }
   ],
   "source": [
    "train_df.head()"
   ]
  },
  {
   "cell_type": "code",
   "execution_count": 9,
   "metadata": {},
   "outputs": [],
   "source": [
    "\n",
    "def extract_feature(f_df):\n",
    "    feature=[]\n",
    "    label=[]\n",
    "    for index,row in f_df.iterrows():\n",
    "    #     print(index,row['Phrase'])\n",
    "        words=row['Phrase'].split(\" \")\n",
    "        f=[]\n",
    "        for v in u_vocab:\n",
    "            if v in words:\n",
    "                f.append(1)\n",
    "            else: \n",
    "              f.append(0)\n",
    "        if  row[\"label\"]==\"Positive\":\n",
    "            label.append(1)\n",
    "        elif row[\"label\"]==\"Negative\":\n",
    "            label.append(0)    \n",
    "\n",
    "        feature.append(f)\n",
    "\n",
    "    #     print(f)\n",
    "\n",
    "    # #     print(words)\n",
    "    #     break\n",
    "    feature=np.array(feature)\n",
    "    label=np.array(label)\n",
    "    label=label.reshape(-1,1)\n",
    "    return feature,label"
   ]
  },
  {
   "cell_type": "code",
   "execution_count": 34,
   "metadata": {},
   "outputs": [],
   "source": [
    "# x_train"
   ]
  },
  {
   "cell_type": "code",
   "execution_count": 10,
   "metadata": {},
   "outputs": [],
   "source": [
    "x_train, y_train=extract_feature(train_df)\n",
    "x_val,y_val=extract_feature(val_df)\n",
    "x_test,y_test=extract_feature(test_df)\n"
   ]
  },
  {
   "cell_type": "code",
   "execution_count": null,
   "metadata": {},
   "outputs": [],
   "source": []
  },
  {
   "cell_type": "code",
   "execution_count": 28,
   "metadata": {},
   "outputs": [],
   "source": [
    "x_train=np.insert(x_train,0,values=1,axis=1)\n",
    "x_val=np.insert(x_val,0,values=1,axis=1)\n",
    "x_test=np.insert(x_test,0,values=1,axis=1)"
   ]
  },
  {
   "cell_type": "code",
   "execution_count": 35,
   "metadata": {},
   "outputs": [],
   "source": [
    "# x_train"
   ]
  },
  {
   "cell_type": "markdown",
   "metadata": {},
   "source": [
    "## Model Building"
   ]
  },
  {
   "cell_type": "code",
   "execution_count": 30,
   "metadata": {},
   "outputs": [],
   "source": [
    "\n",
    "def CEL(h,y):\n",
    "    return (-y*np.log(h)-(1-y)*np.log(1-h)).mean()\n",
    "\n"
   ]
  },
  {
   "cell_type": "code",
   "execution_count": 31,
   "metadata": {},
   "outputs": [],
   "source": [
    "np.random.seed(42)\n",
    "\n",
    "#hyperparameters\n",
    "params = {\n",
    "    'number_of_iterations': 1000,\n",
    "    'learning_rate': 0.001\n",
    "}\n",
    "\n",
    "grid_param = {\n",
    "    'number_of_iterations': [1000, 2000],\n",
    "    'learning_rate': [0.001,0.1]\n",
    "}"
   ]
  },
  {
   "cell_type": "code",
   "execution_count": 14,
   "metadata": {},
   "outputs": [],
   "source": [
    "def sigmoid(z):\n",
    "    return 1/(1+np.exp(-z))"
   ]
  },
  {
   "cell_type": "code",
   "execution_count": 15,
   "metadata": {},
   "outputs": [
    {
     "data": {
      "text/plain": [
       "16"
      ]
     },
     "execution_count": 15,
     "metadata": {},
     "output_type": "execute_result"
    }
   ],
   "source": [
    "np.power(2,4)"
   ]
  },
  {
   "cell_type": "code",
   "execution_count": 16,
   "metadata": {},
   "outputs": [],
   "source": [
    "def train_model(x_train, y_train, x_val, y_val, params):\n",
    "    W = np.random.rand(x_train.shape[1]).reshape(-1,1)\n",
    "    train_error = []\n",
    "\n",
    "    for i in range(1, params['number_of_iterations']):\n",
    "        z= np.matmul(x_train,W)\n",
    "        h_train = sigmoid(z)\n",
    "        \n",
    "        train_loss = CEL(h_train, y_train)#change\n",
    "#         print(i, train_loss)\n",
    "        train_error.append(train_loss)\n",
    "#         val_error.append(val_loss)\n",
    "    \n",
    "        gradient = np.matmul(np.transpose(x_train),(h_train - y_train))/x_train.shape[0]\n",
    "\n",
    "        W = W - params['learning_rate'] * gradient\n",
    "    z= np.matmul(x_val,W)#z=wx\n",
    "    h_val = sigmoid(z)\n",
    "#     h_val = sigmoid(x_val, W)#change\n",
    "    val_loss = CEL(h_val, y_val)#change\n",
    "#     print(h_val, y_val)\n",
    "    return W, train_error, val_loss\n",
    "#     print(W, train_error,val_loss)"
   ]
  },
  {
   "cell_type": "code",
   "execution_count": 17,
   "metadata": {
    "scrolled": false
   },
   "outputs": [
    {
     "data": {
      "text/plain": [
       "(array([[0.35033572],\n",
       "        [0.95066787],\n",
       "        [0.7316061 ],\n",
       "        ...,\n",
       "        [0.43935241],\n",
       "        [0.61282913],\n",
       "        [0.9430217 ]]),\n",
       " [1.6731908096240466,\n",
       "  1.6730741293774032,\n",
       "  1.6729574619985952,\n",
       "  1.672840807485539,\n",
       "  1.6727241658462244,\n",
       "  1.6726075370763562,\n",
       "  1.6724909211747574,\n",
       "  1.6723743181455022,\n",
       "  1.6722577279862099,\n",
       "  1.6721411506942285,\n",
       "  1.6720245862791758,\n",
       "  1.671908034732776,\n",
       "  1.671791496059353,\n",
       "  1.6716749702585227,\n",
       "  1.6715584573294404,\n",
       "  1.671441957272597,\n",
       "  1.6713254700896023,\n",
       "  1.6712089957797454,\n",
       "  1.6710925343442442,\n",
       "  1.6709760857858842,\n",
       "  1.6708596501008732,\n",
       "  1.670743227286396,\n",
       "  1.67062681735332,\n",
       "  1.6705104202928076,\n",
       "  1.670394036108067,\n",
       "  1.6702776648005966,\n",
       "  1.6701613063690004,\n",
       "  1.670044960814112,\n",
       "  1.669928628136628,\n",
       "  1.669812308336491,\n",
       "  1.6696960014150364,\n",
       "  1.6695797073720422,\n",
       "  1.6694634262084862,\n",
       "  1.669347157920691,\n",
       "  1.6692309025139929,\n",
       "  1.6691146599851723,\n",
       "  1.6689984303369212,\n",
       "  1.668882213568756,\n",
       "  1.6687660096836798,\n",
       "  1.6686498186773722,\n",
       "  1.6685336405539477,\n",
       "  1.6684174753067107,\n",
       "  1.6683013229472625,\n",
       "  1.6681851834682282,\n",
       "  1.66806905687063,\n",
       "  1.6679529431532778,\n",
       "  1.6678368423233791,\n",
       "  1.6677207543729153,\n",
       "  1.6676046793097568,\n",
       "  1.6674886171265997,\n",
       "  1.6673725678303206,\n",
       "  1.6672565314177703,\n",
       "  1.6671405078895556,\n",
       "  1.6670244972499013,\n",
       "  1.666908499492175,\n",
       "  1.666792514621877,\n",
       "  1.6666765426337335,\n",
       "  1.666560583536748,\n",
       "  1.6664446373248096,\n",
       "  1.6663287039998353,\n",
       "  1.6662127835644827,\n",
       "  1.6660968760150854,\n",
       "  1.665980981350779,\n",
       "  1.6658650995781554,\n",
       "  1.6657492306943662,\n",
       "  1.6656333746992344,\n",
       "  1.665517531592341,\n",
       "  1.6654017013736537,\n",
       "  1.6652858840466083,\n",
       "  1.6651700796072366,\n",
       "  1.6650542880586843,\n",
       "  1.664938509402808,\n",
       "  1.6648227436353213,\n",
       "  1.6647069907635963,\n",
       "  1.66459125077723,\n",
       "  1.664475523685409,\n",
       "  1.6643598094880168,\n",
       "  1.6642441081807449,\n",
       "  1.6641284197660176,\n",
       "  1.664012744245922,\n",
       "  1.6638970816171264,\n",
       "  1.6637814318825934,\n",
       "  1.6636657950441878,\n",
       "  1.6635501710963245,\n",
       "  1.66343456004477,\n",
       "  1.663318961888404,\n",
       "  1.663203376626275,\n",
       "  1.6630878042597346,\n",
       "  1.662972244787011,\n",
       "  1.6628566982136714,\n",
       "  1.6627411645346848,\n",
       "  1.6626256437523548,\n",
       "  1.6625101358662802,\n",
       "  1.662394640877008,\n",
       "  1.6622791587874512,\n",
       "  1.6621636895929397,\n",
       "  1.6620482332971802,\n",
       "  1.6619327899008718,\n",
       "  1.661817359402463],\n",
       " 1.420724640181089)"
      ]
     },
     "execution_count": 17,
     "metadata": {},
     "output_type": "execute_result"
    }
   ],
   "source": [
    "p = {\n",
    "        'number_of_iterations': 100,\n",
    "        'learning_rate': 0.001\n",
    "    }\n",
    "    \n",
    "train_model(x_train,y_train,x_val,y_val,p)"
   ]
  },
  {
   "cell_type": "code",
   "execution_count": 18,
   "metadata": {},
   "outputs": [
    {
     "name": "stdout",
     "output_type": "stream",
     "text": [
      "[(1000, 0.001), (1000, 0.1), (2000, 0.001), (2000, 0.1)]\n"
     ]
    }
   ],
   "source": [
    "#grid search parameter with val loss\n",
    "import itertools\n",
    "grid = list(itertools.product(grid_param['number_of_iterations'],grid_param['learning_rate']))\n",
    "print(grid)"
   ]
  },
  {
   "cell_type": "code",
   "execution_count": 19,
   "metadata": {},
   "outputs": [],
   "source": [
    "for g in grid:\n",
    "    p = {\n",
    "        'number_of_iterations': g[0],\n",
    "        'learning_rate': g[1]\n",
    "    }\n",
    "    \n",
    "    train_model(x_train, y_train, x_val, y_val,params)"
   ]
  },
  {
   "cell_type": "code",
   "execution_count": 20,
   "metadata": {},
   "outputs": [
    {
     "name": "stdout",
     "output_type": "stream",
     "text": [
      "{'number_of_iterations': 1000, 'learning_rate': 0.001}\n"
     ]
    },
    {
     "data": {
      "image/png": "[encoded data removed]",
      "text/plain": [
       "<Figure size 432x288 with 1 Axes>"
      ]
     },
     "metadata": {
      "needs_background": "light"
     },
     "output_type": "display_data"
    },
    {
     "name": "stdout",
     "output_type": "stream",
     "text": [
      "{'number_of_iterations': 1000, 'learning_rate': 0.1}\n"
     ]
    },
    {
     "data": {
      "image/png": "[encoded data removed]",
      "text/plain": [
       "<Figure size 432x288 with 1 Axes>"
      ]
     },
     "metadata": {
      "needs_background": "light"
     },
     "output_type": "display_data"
    },
    {
     "name": "stdout",
     "output_type": "stream",
     "text": [
      "{'number_of_iterations': 2000, 'learning_rate': 0.001}\n"
     ]
    },
    {
     "data": {
      "image/png": "[encoded data removed]",
      "text/plain": [
       "<Figure size 432x288 with 1 Axes>"
      ]
     },
     "metadata": {
      "needs_background": "light"
     },
     "output_type": "display_data"
    },
    {
     "name": "stdout",
     "output_type": "stream",
     "text": [
      "{'number_of_iterations': 2000, 'learning_rate': 0.1}\n"
     ]
    },
    {
     "data": {
      "image/png": "[encoded data removed]",
      "text/plain": [
       "<Figure size 432x288 with 1 Axes>"
      ]
     },
     "metadata": {
      "needs_background": "light"
     },
     "output_type": "display_data"
    }
   ],
   "source": [
    "for g in grid:\n",
    "    p={\n",
    "    'number_of_iterations':g[0],\n",
    "    'learning_rate':g[1],\n",
    "\n",
    "    }\n",
    "    print(p)\n",
    "    Weights,train_error,val_error=train_model(x_train,y_train,x_val,y_val,p)\n",
    "#     print(val_error)\n",
    "    plt.plot(np.arange(len(train_error)),train_error)\n",
    "    plt.xlabel(\"No. of iterations\")\n",
    "    plt.ylabel(\"Training Error\")   \n",
    "    plt.show()"
   ]
  },
  {
   "cell_type": "code",
   "execution_count": 39,
   "metadata": {},
   "outputs": [],
   "source": [
    "# def perf_measure(y_actual, y_hat):\n",
    "#     TP = 0\n",
    "#     FP = 0\n",
    "#     TN = 0\n",
    "#     FN = 0\n",
    "\n",
    "#     for i in range(len(y_hat)): \n",
    "#         if y_actual[i]==y_hat[i]==1:\n",
    "#             TP += 1\n",
    "#         if y_hat[i]==1 and y_actual[i]!=y_hat[i]:\n",
    "#             FP += 1\n",
    "#         if y_actual[i]==y_hat[i]==0:\n",
    "#             TN += 1\n",
    "#         if y_hat[i]==0 and y_actual[i]!=y_hat[i]:\n",
    "#             FN += 1\n",
    "\n",
    "#     return(TP, FP, TN, FN)\n",
    "\n",
    "    "
   ]
  },
  {
   "cell_type": "code",
   "execution_count": 40,
   "metadata": {},
   "outputs": [],
   "source": [
    "def precision(tp,tn,fp,fn):\n",
    "    return tp/(tp+fp)"
   ]
  },
  {
   "cell_type": "code",
   "execution_count": 41,
   "metadata": {},
   "outputs": [],
   "source": [
    "def precision(tp,tn,fp,fn):\n",
    "    return tp/(tn+fp)"
   ]
  },
  {
   "cell_type": "code",
   "execution_count": 42,
   "metadata": {},
   "outputs": [],
   "source": [
    "def f1_score(p,r):\n",
    "    return (p*r)/(p+r)"
   ]
  },
  {
   "cell_type": "code",
   "execution_count": 43,
   "metadata": {},
   "outputs": [],
   "source": [
    "def confuion_matrix(y,h):\n",
    "    tp, fp, tn, fn = perf_measure(y,h)\n",
    "    cm = [[tp,fp],[fn,tn]]\n",
    "    return cm"
   ]
  },
  {
   "cell_type": "code",
   "execution_count": 2,
   "metadata": {},
   "outputs": [
    {
     "ename": "NameError",
     "evalue": "name 'train_model' is not defined",
     "output_type": "error",
     "traceback": [
      "\u001b[0;31m---------------------------------------------------------------------------\u001b[0m",
      "\u001b[0;31mNameError\u001b[0m                                 Traceback (most recent call last)",
      "\u001b[0;32m<ipython-input-2-4e5cd462c9b8>\u001b[0m in \u001b[0;36m<module>\u001b[0;34m\u001b[0m\n\u001b[1;32m      1\u001b[0m \u001b[0;31m# Evaluation\u001b[0m\u001b[0;34m\u001b[0m\u001b[0;34m\u001b[0m\u001b[0;34m\u001b[0m\u001b[0m\n\u001b[0;32m----> 2\u001b[0;31m \u001b[0mW\u001b[0m\u001b[0;34m,\u001b[0m\u001b[0mtrain_error\u001b[0m\u001b[0;34m,\u001b[0m\u001b[0mval_error\u001b[0m\u001b[0;34m=\u001b[0m\u001b[0mtrain_model\u001b[0m\u001b[0;34m(\u001b[0m\u001b[0mx_train\u001b[0m\u001b[0;34m,\u001b[0m\u001b[0my_train\u001b[0m\u001b[0;34m,\u001b[0m\u001b[0mx_val\u001b[0m\u001b[0;34m,\u001b[0m\u001b[0my_val\u001b[0m\u001b[0;34m,\u001b[0m\u001b[0mp\u001b[0m\u001b[0;34m)\u001b[0m\u001b[0;34m\u001b[0m\u001b[0;34m\u001b[0m\u001b[0m\n\u001b[0m\u001b[1;32m      3\u001b[0m \u001b[0mz\u001b[0m\u001b[0;34m=\u001b[0m \u001b[0mnp\u001b[0m\u001b[0;34m.\u001b[0m\u001b[0mmatmul\u001b[0m\u001b[0;34m(\u001b[0m\u001b[0mx_test\u001b[0m\u001b[0;34m,\u001b[0m\u001b[0mW\u001b[0m\u001b[0;34m)\u001b[0m\u001b[0;31m#z=wx\u001b[0m\u001b[0;34m\u001b[0m\u001b[0;34m\u001b[0m\u001b[0m\n\u001b[1;32m      4\u001b[0m \u001b[0mh_test\u001b[0m \u001b[0;34m=\u001b[0m \u001b[0msigmoid\u001b[0m\u001b[0;34m(\u001b[0m\u001b[0mz\u001b[0m\u001b[0;34m)\u001b[0m\u001b[0;34m\u001b[0m\u001b[0;34m\u001b[0m\u001b[0m\n\u001b[1;32m      5\u001b[0m \u001b[0mcm\u001b[0m \u001b[0;34m=\u001b[0m \u001b[0mconfuion_matrix\u001b[0m\u001b[0;34m(\u001b[0m\u001b[0my_test\u001b[0m\u001b[0;34m,\u001b[0m\u001b[0mh_test\u001b[0m\u001b[0;34m)\u001b[0m\u001b[0;34m\u001b[0m\u001b[0;34m\u001b[0m\u001b[0m\n",
      "\u001b[0;31mNameError\u001b[0m: name 'train_model' is not defined"
     ]
    }
   ],
   "source": [
    "# Evaluation\n",
    "W,train_error,val_error=train_model(x_train,y_train,x_val,y_val,p)\n",
    "z= np.matmul(x_test,W)#z=wx\n",
    "h_test = sigmoid(z)\n",
    "cm = confuion_matrix(y_test,h_test)\n",
    "print(cm)\n",
    "tp, fp, tn, fn = perf_measure(y_test,h_test)\n",
    "print(tp, fp, tn, fn)\n",
    "# p = precision(tp, fp, tn, fn)\n",
    "# r = recall(tp, fp, tn, fn)\n",
    "# f = f1_score(tp, fp, tn, fn)\n",
    "\n",
    "print(\"Precision\", p)\n",
    "# print(\"Recall\", r)\n",
    "print(\"f1_score\", f)\n",
    "print(\"Confusion Matrix\", cm)"
   ]
  },
  {
   "cell_type": "code",
   "execution_count": null,
   "metadata": {},
   "outputs": [],
   "source": [
    "+"
   ]
  }
 ],
 "metadata": {
  "kernelspec": {
   "display_name": "Python 3",
   "language": "python",
   "name": "python3"
  },
  "language_info": {
   "codemirror_mode": {
    "name": "ipython",
    "version": 3
   },
   "file_extension": ".py",
   "mimetype": "text/x-python",
   "name": "python",
   "nbconvert_exporter": "python",
   "pygments_lexer": "ipython3",
   "version": "3.7.4"
  }
 },
 "nbformat": 4,
 "nbformat_minor": 2
}
