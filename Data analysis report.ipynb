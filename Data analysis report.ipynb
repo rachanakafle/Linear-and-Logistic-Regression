{
 "cells": [
  {
   "cell_type": "code",
   "execution_count": 30,
   "metadata": {},
   "outputs": [],
   "source": [
    "import numpy as np\n",
    "import pandas as pd\n",
    "import matplotlib.pyplot as plt"
   ]
  },
  {
   "cell_type": "code",
   "execution_count": 31,
   "metadata": {},
   "outputs": [
    {
     "data": {
      "text/html": [
       "<div>\n",
       "<style scoped>\n",
       "    .dataframe tbody tr th:only-of-type {\n",
       "        vertical-align: middle;\n",
       "    }\n",
       "\n",
       "    .dataframe tbody tr th {\n",
       "        vertical-align: top;\n",
       "    }\n",
       "\n",
       "    .dataframe thead th {\n",
       "        text-align: right;\n",
       "    }\n",
       "</style>\n",
       "<table border=\"1\" class=\"dataframe\">\n",
       "  <thead>\n",
       "    <tr style=\"text-align: right;\">\n",
       "      <th></th>\n",
       "      <th>कृषि उपज</th>\n",
       "      <th>ईकाइ</th>\n",
       "      <th>न्यूनतम</th>\n",
       "      <th>अधिकतम</th>\n",
       "      <th>औसत</th>\n",
       "      <th>cdate</th>\n",
       "      <th>pricetype</th>\n",
       "    </tr>\n",
       "  </thead>\n",
       "  <tbody>\n",
       "    <tr>\n",
       "      <td>0</td>\n",
       "      <td>गोलभेडा ठूलो(नेपाली)</td>\n",
       "      <td>के.जी.</td>\n",
       "      <td>30</td>\n",
       "      <td>35</td>\n",
       "      <td>33</td>\n",
       "      <td>02/25/2018</td>\n",
       "      <td>W</td>\n",
       "    </tr>\n",
       "    <tr>\n",
       "      <td>1</td>\n",
       "      <td>गोलभेडा सानो</td>\n",
       "      <td>के.जी.</td>\n",
       "      <td>25</td>\n",
       "      <td>30</td>\n",
       "      <td>28</td>\n",
       "      <td>02/25/2018</td>\n",
       "      <td>W</td>\n",
       "    </tr>\n",
       "    <tr>\n",
       "      <td>2</td>\n",
       "      <td>अालु रातो</td>\n",
       "      <td>के.जी.</td>\n",
       "      <td>20</td>\n",
       "      <td>23</td>\n",
       "      <td>22</td>\n",
       "      <td>02/25/2018</td>\n",
       "      <td>W</td>\n",
       "    </tr>\n",
       "    <tr>\n",
       "      <td>3</td>\n",
       "      <td>अालु सेतो</td>\n",
       "      <td>के.जी.</td>\n",
       "      <td>18</td>\n",
       "      <td>20</td>\n",
       "      <td>19</td>\n",
       "      <td>02/25/2018</td>\n",
       "      <td>W</td>\n",
       "    </tr>\n",
       "    <tr>\n",
       "      <td>4</td>\n",
       "      <td>प्याज सुकेको भारतीय</td>\n",
       "      <td>के.जी.</td>\n",
       "      <td>44</td>\n",
       "      <td>46</td>\n",
       "      <td>45</td>\n",
       "      <td>02/25/2018</td>\n",
       "      <td>W</td>\n",
       "    </tr>\n",
       "    <tr>\n",
       "      <td>...</td>\n",
       "      <td>...</td>\n",
       "      <td>...</td>\n",
       "      <td>...</td>\n",
       "      <td>...</td>\n",
       "      <td>...</td>\n",
       "      <td>...</td>\n",
       "      <td>...</td>\n",
       "    </tr>\n",
       "    <tr>\n",
       "      <td>99297</td>\n",
       "      <td>लसुन सुकेको नेपाली</td>\n",
       "      <td>के.जी.</td>\n",
       "      <td>600</td>\n",
       "      <td>620</td>\n",
       "      <td>610</td>\n",
       "      <td>02/15/2020</td>\n",
       "      <td>R</td>\n",
       "    </tr>\n",
       "    <tr>\n",
       "      <td>99298</td>\n",
       "      <td>ताजा माछा(रहु)</td>\n",
       "      <td>के जी</td>\n",
       "      <td>320</td>\n",
       "      <td>330</td>\n",
       "      <td>325</td>\n",
       "      <td>02/15/2020</td>\n",
       "      <td>R</td>\n",
       "    </tr>\n",
       "    <tr>\n",
       "      <td>99299</td>\n",
       "      <td>ताजा माछा(बचुवा)</td>\n",
       "      <td>के जी</td>\n",
       "      <td>280</td>\n",
       "      <td>300</td>\n",
       "      <td>290</td>\n",
       "      <td>02/15/2020</td>\n",
       "      <td>R</td>\n",
       "    </tr>\n",
       "    <tr>\n",
       "      <td>99300</td>\n",
       "      <td>ताजा माछा(छडी)</td>\n",
       "      <td>के जी</td>\n",
       "      <td>280</td>\n",
       "      <td>300</td>\n",
       "      <td>290</td>\n",
       "      <td>02/15/2020</td>\n",
       "      <td>R</td>\n",
       "    </tr>\n",
       "    <tr>\n",
       "      <td>99301</td>\n",
       "      <td>ताजा माछा(म‌ंुगरी)</td>\n",
       "      <td>के जी</td>\n",
       "      <td>310</td>\n",
       "      <td>320</td>\n",
       "      <td>315</td>\n",
       "      <td>02/15/2020</td>\n",
       "      <td>R</td>\n",
       "    </tr>\n",
       "  </tbody>\n",
       "</table>\n",
       "<p>99302 rows × 7 columns</p>\n",
       "</div>"
      ],
      "text/plain": [
       "                   कृषि उपज    ईकाइ  न्यूनतम  अधिकतम  औसत       cdate  \\\n",
       "0      गोलभेडा ठूलो(नेपाली)  के.जी.       30      35   33  02/25/2018   \n",
       "1              गोलभेडा सानो  के.जी.       25      30   28  02/25/2018   \n",
       "2                 अालु रातो  के.जी.       20      23   22  02/25/2018   \n",
       "3                 अालु सेतो  के.जी.       18      20   19  02/25/2018   \n",
       "4       प्याज सुकेको भारतीय  के.जी.       44      46   45  02/25/2018   \n",
       "...                     ...     ...      ...     ...  ...         ...   \n",
       "99297    लसुन सुकेको नेपाली  के.जी.      600     620  610  02/15/2020   \n",
       "99298        ताजा माछा(रहु)   के जी      320     330  325  02/15/2020   \n",
       "99299      ताजा माछा(बचुवा)   के जी      280     300  290  02/15/2020   \n",
       "99300        ताजा माछा(छडी)   के जी      280     300  290  02/15/2020   \n",
       "99301    ताजा माछा(म‌ंुगरी)   के जी      310     320  315  02/15/2020   \n",
       "\n",
       "      pricetype  \n",
       "0             W  \n",
       "1             W  \n",
       "2             W  \n",
       "3             W  \n",
       "4             W  \n",
       "...         ...  \n",
       "99297         R  \n",
       "99298         R  \n",
       "99299         R  \n",
       "99300         R  \n",
       "99301         R  \n",
       "\n",
       "[99302 rows x 7 columns]"
      ]
     },
     "execution_count": 31,
     "metadata": {},
     "output_type": "execute_result"
    }
   ],
   "source": [
    "data=pd.read_csv(\"Price.csv\")\n",
    "data\n"
   ]
  },
  {
   "cell_type": "markdown",
   "metadata": {},
   "source": [
    "### Find the name of vegetables"
   ]
  },
  {
   "cell_type": "code",
   "execution_count": 45,
   "metadata": {},
   "outputs": [
    {
     "name": "stdout",
     "output_type": "stream",
     "text": [
      "['गोलभेडा ठूलो(नेपाली)' 'गोलभेडा सानो' 'अालु रातो' 'अालु सेतो'\n",
      " 'प्याज सुकेको भारतीय' 'गाजर(लोकल)' 'बन्दा(लोकल)' 'काउली स्थानिय'\n",
      " 'काउली तरार्इ' 'मूला रातो' 'मूला सेतो(लोकल)' 'भन्टा लाम्चो' 'भन्टा डल्लो'\n",
      " 'मटरकोशा' 'घिउ सिमी(लोकल)' 'टाटे सिमी' 'लौका' 'फर्सी पाकेको'\n",
      " 'फर्सी हरियो(लाम्चो)' 'भिण्डी' 'बरेला' 'पिंडालू' 'स्कूस' 'रायो साग'\n",
      " 'पालूगो साग' 'चमसूरको साग' 'तोरीको साग' 'मेथीको साग' 'प्याज हरियो'\n",
      " 'बकूला' 'तरुल' 'च्याउ(कन्य)' 'ब्रोकाउली' 'चुकुन्दर' 'जिरीको साग'\n",
      " 'ग्याठ कोबी' 'सेलरी' 'पार्सले' 'सौफको साग' 'पुदीना' 'गान्टे मूला' 'इमली'\n",
      " 'तामा' 'तोफु' 'गुन्दुक' 'स्याउ(झोले)' 'केरा' 'कागती' 'अनार'\n",
      " 'अंगुर(हरियो)' 'सुन्तला(नेपाली)' 'तरबुजा(हरियो)' 'मौसम' 'भुर्इ कटहर'\n",
      " 'काक्रो(लोकल)' 'रुख कटहर' 'नासपाती(लोकल)' 'मेवा(नेपाली)' 'लप्सी' 'अदुवा'\n",
      " 'खु्र्सानी सुकेको' 'खु्र्सानी हरियो' 'भेडे खु्र्सानी' 'लसुन हरियो'\n",
      " 'हरियो धनिया' 'लसुन सुकेको चाइनिज' 'लसुन सुकेको नेपाली' 'माछा ताजा'\n",
      " 'रातो बन्दा' 'तितो करेला' 'परवर(लोकल)' 'छ्यापी हरियो' 'बोडी(तने)' 'सजिवन'\n",
      " 'कोइरालो' 'घिरौला' 'आँप(मालदह)' 'चिचिण्डो' 'न्यूरो' 'लीच्ची(लोकल)'\n",
      " 'भटमासकोशा' 'झिगूनी' 'अम्बा' 'कुरीलो' 'सखरखण्ड' 'छ्यापी सुकेको'\n",
      " 'गोलभेडा सानो(टनेल)' 'आलु रातो(भारतीय)' 'च्याउ(डल्ले)' 'स्याउ(फूजी)'\n",
      " 'काक्रो(हाइब्रीड)' 'खुर्सानी हरियो(बुलेट)' 'खुर्सानी हरियो(माछे)'\n",
      " 'खुर्सानी हरियो(अकबरे)' 'ताजा माछा(रहु)' 'ताजा माछा(बचुवा)'\n",
      " 'ताजा माछा(छडी)' 'ताजा माछा(म\\u200cंुगरी)' 'सेतो मूला(हाइब्रीड)'\n",
      " 'मकै बोडी' 'घिउ सिमी(हाइब्रीड)' 'घिउ सिमी(राजमा)' 'हरियो फर्सी(डल्लो)'\n",
      " 'अाँप(दसहरी)' 'तरबुजा(पाटे)' 'मेवा(भारतीय)' 'लीच्ची(भारतीय)'\n",
      " 'बन्दा(नरिवल)' 'आलु रातो(मुडे)' 'ठूलो गोलभेडा(भारतीय)' 'नासपाती(चाइनिज)'\n",
      " 'गोलभेडा सानो(भारतीय)' 'सुन्तला(भारतीय)' 'गाजर(तराई)'\n",
      " 'गोलभेडा सानो(तराई)' 'सुकेको प्याज चाइनिज' 'बन्दा(तराई)'\n",
      " 'स्थानीय काउली(ज्यापु)' 'परवर(तराई)' 'अंगुर(कालो)']\n"
     ]
    }
   ],
   "source": [
    " vegetable_name=data['कृषि उपज'].unique()\n",
    " print( vegetable_name)\n"
   ]
  },
  {
   "cell_type": "markdown",
   "metadata": {},
   "source": [
    "###  Find the total number of vegetables"
   ]
  },
  {
   "cell_type": "code",
   "execution_count": 33,
   "metadata": {},
   "outputs": [
    {
     "name": "stdout",
     "output_type": "stream",
     "text": [
      "There are 120 unique vegetables.\n"
     ]
    }
   ],
   "source": [
    "vegetable_length=len(vegetable_name)\n",
    "print(\"There are {} unique vegetables.\".format(vegetable_length))"
   ]
  },
  {
   "cell_type": "markdown",
   "metadata": {},
   "source": [
    "### Find the minimum price  of vegetable"
   ]
  },
  {
   "cell_type": "code",
   "execution_count": 46,
   "metadata": {},
   "outputs": [
    {
     "name": "stdout",
     "output_type": "stream",
     "text": [
      "Minimun price of vegetables is Rs. 1\n"
     ]
    }
   ],
   "source": [
    "min_price=data.न्यूनतम.min()\n",
    "print( \"Minimun price of vegetables is Rs.\",min_price)"
   ]
  },
  {
   "cell_type": "markdown",
   "metadata": {},
   "source": [
    "### count the number of vegetables whose price is Rs.1"
   ]
  },
  {
   "cell_type": "code",
   "execution_count": 35,
   "metadata": {},
   "outputs": [
    {
     "name": "stdout",
     "output_type": "stream",
     "text": [
      "There are 3 vegetables whose price is Rs.1\n"
     ]
    }
   ],
   "source": [
    "min_price_vegetable=data[data.न्यूनतम==1]\n",
    "length_min_price=len(min_price_vegetable)\n",
    "print(\"There are {} vegetables whose price is Rs.{}\".format(length_min_price,min_price))"
   ]
  },
  {
   "cell_type": "markdown",
   "metadata": {},
   "source": [
    "### Find the details about minimum price vegetables\n"
   ]
  },
  {
   "cell_type": "code",
   "execution_count": 36,
   "metadata": {},
   "outputs": [
    {
     "name": "stdout",
     "output_type": "stream",
     "text": [
      "            कृषि उपज    ईकाइ  न्यूनतम  अधिकतम  औसत       cdate pricetype\n",
      "25011         झिगूनी  के.जी.        1      48   31  09/09/2018         W\n",
      "36257  काउली स्थानिय  के.जी.        1      40   21  12/09/2018         R\n",
      "37157  तरबुजा(हरियो)  के.जी.        1      55   28  12/16/2018         W\n"
     ]
    }
   ],
   "source": [
    "\n",
    "print(min_price_vegetable)\n"
   ]
  },
  {
   "cell_type": "markdown",
   "metadata": {},
   "source": [
    "### Find the maximum price  of vegetable"
   ]
  },
  {
   "cell_type": "code",
   "execution_count": 37,
   "metadata": {},
   "outputs": [
    {
     "name": "stdout",
     "output_type": "stream",
     "text": [
      "Maximum price of vegetables is Rs. 1650\n"
     ]
    }
   ],
   "source": [
    "max_price=data.अधिकतम.max()\n",
    "\n",
    "print( \"Maximum price of vegetables is Rs.\",max_price)"
   ]
  },
  {
   "cell_type": "markdown",
   "metadata": {},
   "source": [
    "### count the number of vegetables whose price is Rs.1650"
   ]
  },
  {
   "cell_type": "code",
   "execution_count": 38,
   "metadata": {},
   "outputs": [
    {
     "name": "stdout",
     "output_type": "stream",
     "text": [
      "There are 6 vegetables whose price is Rs.1650\n"
     ]
    }
   ],
   "source": [
    "max_price_vegetable=data[data.अधिकतम==1650]\n",
    "len_max_price_vegetable=len(max_price_vegetable)\n",
    "print(\"There are {} vegetables whose price is Rs.{}\".format(len_max_price_vegetable,max_price))\n"
   ]
  },
  {
   "cell_type": "markdown",
   "metadata": {},
   "source": [
    "## Find the details about maximum price vegetables\n"
   ]
  },
  {
   "cell_type": "code",
   "execution_count": 39,
   "metadata": {},
   "outputs": [
    {
     "name": "stdout",
     "output_type": "stream",
     "text": [
      "     कृषि उपज    ईकाइ  न्यूनतम  अधिकतम   औसत       cdate pricetype\n",
      "5431    कागती  के.जी.     1600    1650  1625  04/06/2018         R\n",
      "5843    कागती  के.जी.     1600    1650  1625  04/09/2018         R\n",
      "5981    कागती  के.जी.     1600    1650  1625  04/10/2018         R\n",
      "6117    कागती  के.जी.     1600    1650  1625  04/11/2018         R\n",
      "6251    कागती  के.जी.     1600    1650  1625  04/12/2018         R\n",
      "6385    कागती  के.जी.     1600    1650  1625  04/13/2018         R\n"
     ]
    }
   ],
   "source": [
    "# detail_max=data[data.अधिकतम==data.अधिकतम.max()]\n",
    "detail_max=data[data.अधिकतम==1650]\n",
    "print(detail_max)"
   ]
  },
  {
   "cell_type": "markdown",
   "metadata": {},
   "source": [
    "## count the number of vegetables whose pricetype is R"
   ]
  },
  {
   "cell_type": "code",
   "execution_count": 40,
   "metadata": {},
   "outputs": [],
   "source": [
    "\n",
    "# total_data=data.pricetype\n",
    "# print(\"Total dataset is\",len(total_data))"
   ]
  },
  {
   "cell_type": "code",
   "execution_count": 49,
   "metadata": {},
   "outputs": [
    {
     "name": "stdout",
     "output_type": "stream",
     "text": [
      "Total number of retail pricetype are  49646\n"
     ]
    }
   ],
   "source": [
    "retail_data=data[data.pricetype=='R']\n",
    "length_retail_data=len(retail_data)\n",
    "print(\"Total number of retail pricetype are \",length_retail_data)\n"
   ]
  },
  {
   "cell_type": "markdown",
   "metadata": {},
   "source": [
    "## count the number of vegetables whose pricetype is W"
   ]
  },
  {
   "cell_type": "code",
   "execution_count": 42,
   "metadata": {},
   "outputs": [
    {
     "name": "stdout",
     "output_type": "stream",
     "text": [
      "Total  number of wholesale pricetype is 49656\n"
     ]
    }
   ],
   "source": [
    "wholesale_data=data[data.pricetype=='W']\n",
    "length_wholesale_data=len(wholesale_data)\n",
    "print(\"Total  number of wholesale pricetype is\",length_wholesale_data)\n"
   ]
  },
  {
   "cell_type": "markdown",
   "metadata": {},
   "source": [
    "## Find the total number of difference between wholesale and retail pricetype"
   ]
  },
  {
   "cell_type": "code",
   "execution_count": 43,
   "metadata": {},
   "outputs": [
    {
     "name": "stdout",
     "output_type": "stream",
     "text": [
      "Total number of difference between wholesale and retail pricetype is 10\n"
     ]
    }
   ],
   "source": [
    "\n",
    "difference=length_wholesale_data-length_retail_data\n",
    "print(\"Total number of difference between wholesale and retail pricetype is\",difference)\n",
    "     "
   ]
  }
 ],
 "metadata": {
  "kernelspec": {
   "display_name": "Python 3",
   "language": "python",
   "name": "python3"
  },
  "language_info": {
   "codemirror_mode": {
    "name": "ipython",
    "version": 3
   },
   "file_extension": ".py",
   "mimetype": "text/x-python",
   "name": "python",
   "nbconvert_exporter": "python",
   "pygments_lexer": "ipython3",
   "version": "3.7.4"
  }
 },
 "nbformat": 4,
 "nbformat_minor": 2
}
